{
 "cells": [
  {
   "cell_type": "code",
   "execution_count": 1,
   "id": "64ae9db9",
   "metadata": {
    "_cell_guid": "b1076dfc-b9ad-4769-8c92-a6c4dae69d19",
    "_uuid": "8f2839f25d086af736a60e9eeb907d3b93b6e0e5",
    "execution": {
     "iopub.execute_input": "2024-10-10T07:32:03.892929Z",
     "iopub.status.busy": "2024-10-10T07:32:03.892472Z",
     "iopub.status.idle": "2024-10-10T07:32:04.660258Z",
     "shell.execute_reply": "2024-10-10T07:32:04.659409Z"
    },
    "papermill": {
     "duration": 0.784151,
     "end_time": "2024-10-10T07:32:04.662749",
     "exception": false,
     "start_time": "2024-10-10T07:32:03.878598",
     "status": "completed"
    },
    "tags": []
   },
   "outputs": [],
   "source": [
    "# This Python 3 environment comes with many helpful analytics libraries installed\n",
    "# It is defined by the kaggle/python Docker image: https://github.com/kaggle/docker-python\n",
    "# For example, here's several helpful packages to load\n",
    "\n",
    "import numpy as np # linear algebra\n",
    "import pandas as pd # data processing, CSV file I/O (e.g. pd.read_csv)\n",
    "\n",
    "# Input data files are available in the read-only \"../input/\" directory\n",
    "# For example, running this (by clicking run or pressing Shift+Enter) will list all files under the input directory\n",
    "\n",
    "# import os\n",
    "# for dirname, _, filenames in os.walk('/kaggle/input'):\n",
    "#     for filename in filenames:\n",
    "#         print(os.path.join(dirname, filename))\n",
    "\n",
    "# You can write up to 20GB to the current directory (/kaggle/working/) that gets preserved as output when you create a version using \"Save & Run All\" \n",
    "# You can also write temporary files to /kaggle/temp/, but they won't be saved outside of the current session"
   ]
  },
  {
   "cell_type": "code",
   "execution_count": 2,
   "id": "34cb3550",
   "metadata": {
    "execution": {
     "iopub.execute_input": "2024-10-10T07:32:04.689524Z",
     "iopub.status.busy": "2024-10-10T07:32:04.689038Z",
     "iopub.status.idle": "2024-10-10T07:32:04.693313Z",
     "shell.execute_reply": "2024-10-10T07:32:04.692439Z"
    },
    "papermill": {
     "duration": 0.019123,
     "end_time": "2024-10-10T07:32:04.695164",
     "exception": false,
     "start_time": "2024-10-10T07:32:04.676041",
     "status": "completed"
    },
    "tags": []
   },
   "outputs": [],
   "source": [
    "# import pandas as pd\n",
    "# import numpy as np\n",
    "\n",
    "# # Read the CSV file of 21th person's low MWL data\n",
    "# df=pd.read_csv('/kaggle/input/gsr-collection-for-mental-strain/Low_MWL/Low_MWL/p2l.csv')\n",
    "# display(df)    # 2nd person's low mwl data"
   ]
  },
  {
   "cell_type": "markdown",
   "id": "db363228",
   "metadata": {
    "papermill": {
     "duration": 0.011393,
     "end_time": "2024-10-10T07:32:04.718304",
     "exception": false,
     "start_time": "2024-10-10T07:32:04.706911",
     "status": "completed"
    },
    "tags": []
   },
   "source": [
    "Sample input signal"
   ]
  },
  {
   "cell_type": "code",
   "execution_count": 3,
   "id": "2d060dfe",
   "metadata": {
    "execution": {
     "iopub.execute_input": "2024-10-10T07:32:04.743243Z",
     "iopub.status.busy": "2024-10-10T07:32:04.742902Z",
     "iopub.status.idle": "2024-10-10T07:32:04.746936Z",
     "shell.execute_reply": "2024-10-10T07:32:04.746060Z"
    },
    "papermill": {
     "duration": 0.018747,
     "end_time": "2024-10-10T07:32:04.748854",
     "exception": false,
     "start_time": "2024-10-10T07:32:04.730107",
     "status": "completed"
    },
    "tags": []
   },
   "outputs": [],
   "source": [
    "# # A person's low mental workload data\n",
    "\n",
    "# # Extract required gsr values\n",
    "# gsr_1 =df['Trial 1:0back']\n",
    "          \n",
    "# gsr_2 = df['Trial 6:0back']\n",
    "\n",
    "\n",
    "          "
   ]
  },
  {
   "cell_type": "code",
   "execution_count": 4,
   "id": "98795e81",
   "metadata": {
    "execution": {
     "iopub.execute_input": "2024-10-10T07:32:04.774092Z",
     "iopub.status.busy": "2024-10-10T07:32:04.773717Z",
     "iopub.status.idle": "2024-10-10T07:32:04.778325Z",
     "shell.execute_reply": "2024-10-10T07:32:04.777453Z"
    },
    "papermill": {
     "duration": 0.019637,
     "end_time": "2024-10-10T07:32:04.780322",
     "exception": false,
     "start_time": "2024-10-10T07:32:04.760685",
     "status": "completed"
    },
    "tags": []
   },
   "outputs": [],
   "source": [
    "# # set sampling rate of gsr data to be 256 Hz\n",
    "          \n",
    "# sampling_rate=256\n",
    "\n",
    "# # create a time array based on sampling rate and length of gsr values\n",
    "\n",
    "# time=np.arange(len(gsr_1))/sampling_rate\n",
    "\n",
    "# # plot the gsr values against time\n",
    "# fig, axes = plt.subplots(2, figsize=(12,12))\n",
    "\n",
    "# # top panel shows the input signal\n",
    "# ax=axes[0]\n",
    "# ax.plot(time,gsr_1)\n",
    "# ax.set_ylabel('Amplitude')\n",
    "# ax.set_title('GSR')\n",
    "\n",
    "# ax=axes[1]\n",
    "# ax.plot(time, gsr_2)\n",
    "# ax.set_ylabel('Amplitude')\n",
    "# ax.set_xlabel('Time(sec)')\n",
    "\n"
   ]
  },
  {
   "cell_type": "markdown",
   "id": "faa511e6",
   "metadata": {
    "papermill": {
     "duration": 0.011704,
     "end_time": "2024-10-10T07:32:04.803841",
     "exception": false,
     "start_time": "2024-10-10T07:32:04.792137",
     "status": "completed"
    },
    "tags": []
   },
   "source": [
    "**Consider set 1 as first 768 rows of data**"
   ]
  },
  {
   "cell_type": "code",
   "execution_count": 5,
   "id": "6e2b5395",
   "metadata": {
    "execution": {
     "iopub.execute_input": "2024-10-10T07:32:04.829981Z",
     "iopub.status.busy": "2024-10-10T07:32:04.829333Z",
     "iopub.status.idle": "2024-10-10T07:32:04.833367Z",
     "shell.execute_reply": "2024-10-10T07:32:04.832517Z"
    },
    "papermill": {
     "duration": 0.019633,
     "end_time": "2024-10-10T07:32:04.835359",
     "exception": false,
     "start_time": "2024-10-10T07:32:04.815726",
     "status": "completed"
    },
    "tags": []
   },
   "outputs": [],
   "source": [
    "# set1=df.iloc[0:768]\n",
    "# set1"
   ]
  },
  {
   "cell_type": "code",
   "execution_count": 6,
   "id": "3b5555c2",
   "metadata": {
    "execution": {
     "iopub.execute_input": "2024-10-10T07:32:04.861123Z",
     "iopub.status.busy": "2024-10-10T07:32:04.860751Z",
     "iopub.status.idle": "2024-10-10T07:32:04.864951Z",
     "shell.execute_reply": "2024-10-10T07:32:04.864049Z"
    },
    "papermill": {
     "duration": 0.019499,
     "end_time": "2024-10-10T07:32:04.866906",
     "exception": false,
     "start_time": "2024-10-10T07:32:04.847407",
     "status": "completed"
    },
    "tags": []
   },
   "outputs": [],
   "source": [
    "# # Read the CSV file of 21th person's high MWL data\n",
    "# df=pd.read_csv('/kaggle/input/gsr-collection-for-mental-strain/High_MWL/High_MWL/p10h.csv')\n",
    "# display(df)    # 2nd person's low mwl data"
   ]
  },
  {
   "cell_type": "code",
   "execution_count": 7,
   "id": "50a7daab",
   "metadata": {
    "execution": {
     "iopub.execute_input": "2024-10-10T07:32:04.892351Z",
     "iopub.status.busy": "2024-10-10T07:32:04.892006Z",
     "iopub.status.idle": "2024-10-10T07:32:04.896359Z",
     "shell.execute_reply": "2024-10-10T07:32:04.895537Z"
    },
    "papermill": {
     "duration": 0.019208,
     "end_time": "2024-10-10T07:32:04.898242",
     "exception": false,
     "start_time": "2024-10-10T07:32:04.879034",
     "status": "completed"
    },
    "tags": []
   },
   "outputs": [],
   "source": [
    "# # A person's high mental workload data\n",
    "\n",
    "# # Extract required gsr values\n",
    "# gsr_1_h =df['Trial 3:3back']\n",
    "          \n",
    "# gsr_2_h = df['Trial 5:3back']\n",
    "\n",
    "# # plot the gsr values against time\n",
    "# fig, axes = plt.subplots(2, figsize=(12,12))\n",
    "\n",
    "# # top panel shows the input signal\n",
    "# ax=axes[0]\n",
    "# ax.plot(time,gsr_1_h)\n",
    "# ax.set_ylabel('Amplitude')\n",
    "# ax.set_title('GSR')\n",
    "\n",
    "# ax=axes[1]\n",
    "# ax.plot(time, gsr_2_h)\n",
    "# ax.set_ylabel('Amplitude')\n",
    "# ax.set_xlabel('Time(sec)')\n"
   ]
  },
  {
   "cell_type": "code",
   "execution_count": 8,
   "id": "b51d3e1f",
   "metadata": {
    "execution": {
     "iopub.execute_input": "2024-10-10T07:32:04.923955Z",
     "iopub.status.busy": "2024-10-10T07:32:04.923385Z",
     "iopub.status.idle": "2024-10-10T07:32:04.927344Z",
     "shell.execute_reply": "2024-10-10T07:32:04.926514Z"
    },
    "papermill": {
     "duration": 0.019088,
     "end_time": "2024-10-10T07:32:04.929210",
     "exception": false,
     "start_time": "2024-10-10T07:32:04.910122",
     "status": "completed"
    },
    "tags": []
   },
   "outputs": [],
   "source": [
    "# # Read the CSV file of 8th person's high MWL data\n",
    "# df=pd.read_csv('/kaggle/input/gsr-collection-for-mental-strain/High_MWL/High_MWL/p10h.csv')\n",
    "# display(df)    # 8th person's high mwl data\n",
    "\n",
    "\n"
   ]
  },
  {
   "cell_type": "code",
   "execution_count": 9,
   "id": "1e89ffd8",
   "metadata": {
    "execution": {
     "iopub.execute_input": "2024-10-10T07:32:04.954914Z",
     "iopub.status.busy": "2024-10-10T07:32:04.954326Z",
     "iopub.status.idle": "2024-10-10T07:32:04.958667Z",
     "shell.execute_reply": "2024-10-10T07:32:04.957814Z"
    },
    "papermill": {
     "duration": 0.019344,
     "end_time": "2024-10-10T07:32:04.960626",
     "exception": false,
     "start_time": "2024-10-10T07:32:04.941282",
     "status": "completed"
    },
    "tags": []
   },
   "outputs": [],
   "source": [
    "# # A person's high mental workload data\n",
    "\n",
    "# # Extract required gsr values\n",
    "# gsr_8_h =df['Trial 3:3back']\n",
    "          \n",
    "# gsr_8_h = df['Trial 5:3back']\n",
    "\n",
    "# # plot the gsr values against time\n",
    "# fig, axes = plt.subplots(2, figsize=(12,12))\n",
    "\n",
    "# # top panel shows the input signal\n",
    "# ax=axes[0]\n",
    "# ax.plot(time,gsr_8_h)\n",
    "# ax.set_ylabel('Amplitude')\n",
    "# ax.set_title('GSR')\n",
    "\n",
    "# ax=axes[1]\n",
    "# ax.plot(time, gsr_8_h)\n",
    "# ax.set_ylabel('Amplitude')\n",
    "# ax.set_xlabel('Time(sec)')"
   ]
  },
  {
   "cell_type": "markdown",
   "id": "717a919c",
   "metadata": {
    "papermill": {
     "duration": 0.011931,
     "end_time": "2024-10-10T07:32:04.984948",
     "exception": false,
     "start_time": "2024-10-10T07:32:04.973017",
     "status": "completed"
    },
    "tags": []
   },
   "source": []
  },
  {
   "cell_type": "markdown",
   "id": "a39e1779",
   "metadata": {
    "papermill": {
     "duration": 0.012035,
     "end_time": "2024-10-10T07:32:05.009152",
     "exception": false,
     "start_time": "2024-10-10T07:32:04.997117",
     "status": "completed"
    },
    "tags": []
   },
   "source": [
    " \n",
    "#  Feature Extraction Method From Research Paper: Toward Dynamically Adaptive Simulation Multimodal\n",
    " \n",
    " Feature                                   Description\n",
    "\n",
    " RT           =            Rise time from SCR onset to peak response\n",
    " \n",
    " \n",
    " \n",
    " HRT         =             Half recovery time of the SCR peak\n",
    " \n",
    " \n",
    " Amp            =          Amplitude of the skin conductance response at its peak   \n",
    " \n",
    " Area       =              Area of the skin conductance response\n",
    " \n",
    " Prom        =             Prominence of skin conductance response relative to the skin conductance level            \n",
    " \n",
    " SCL         =             Skin conductance level, the average electrodermal response          \n",
    " \n",
    " MAV1Diff SCL    =            First derivative of the mean absolute value of the skin conductance level\n",
    " \n",
    " MAV2Diff SCL    =         Second derivative of the mean absolute value of the skin conductance level\n",
    " \n",
    " BP             =          Band power power of the GSR signal\n",
    " \n",
    " PSD       =              Power spectrum density estimate of the GSR signal\n",
    " \n",
    " \n",
    " \n"
   ]
  },
  {
   "cell_type": "markdown",
   "id": "2b2ac795",
   "metadata": {
    "papermill": {
     "duration": 0.011734,
     "end_time": "2024-10-10T07:32:05.033023",
     "exception": false,
     "start_time": "2024-10-10T07:32:05.021289",
     "status": "completed"
    },
    "tags": []
   },
   "source": [
    "Compute and extract the above features and label whether there is high or low mental workload\n",
    "\n",
    "- correlate to stress \n",
    "- low mental workload would indicate that there is a coping mechanism"
   ]
  },
  {
   "cell_type": "markdown",
   "id": "a375b3f6",
   "metadata": {
    "papermill": {
     "duration": 0.011977,
     "end_time": "2024-10-10T07:32:05.057038",
     "exception": false,
     "start_time": "2024-10-10T07:32:05.045061",
     "status": "completed"
    },
    "tags": []
   },
   "source": [
    "# Computing features"
   ]
  },
  {
   "cell_type": "code",
   "execution_count": 10,
   "id": "72538439",
   "metadata": {
    "execution": {
     "iopub.execute_input": "2024-10-10T07:32:05.083100Z",
     "iopub.status.busy": "2024-10-10T07:32:05.082364Z",
     "iopub.status.idle": "2024-10-10T07:32:06.095471Z",
     "shell.execute_reply": "2024-10-10T07:32:06.094492Z"
    },
    "papermill": {
     "duration": 1.028823,
     "end_time": "2024-10-10T07:32:06.097939",
     "exception": false,
     "start_time": "2024-10-10T07:32:05.069116",
     "status": "completed"
    },
    "tags": []
   },
   "outputs": [],
   "source": [
    "from scipy.signal import find_peaks"
   ]
  },
  {
   "cell_type": "markdown",
   "id": "c2e19fb6",
   "metadata": {
    "papermill": {
     "duration": 0.011954,
     "end_time": "2024-10-10T07:32:06.123475",
     "exception": false,
     "start_time": "2024-10-10T07:32:06.111521",
     "status": "completed"
    },
    "tags": []
   },
   "source": [
    "Feature Extraction Method: Continous Wavelet Transform \n",
    "\n",
    "- time frequency : info on how GSR signal evolves over time\n",
    "- multi scale analysis: detect both short term & long term changes in skin conductance\n",
    "- capture transient events : such as sudden changes due to stress level\n",
    "\n",
    "use PyWavelets to compute CWT\n",
    "\n",
    "use CWT coefficients to extract features\n",
    "\n",
    "for each entry of csv (person)\n",
    "\n",
    "------------------ energy per scale  | entropy | band power | dominantfrequency | \n",
    "\n",
    "\n",
    "p1: \n",
    "\n",
    "p2: \n",
    "\n",
    "..."
   ]
  },
  {
   "cell_type": "code",
   "execution_count": 11,
   "id": "81c2e121",
   "metadata": {
    "execution": {
     "iopub.execute_input": "2024-10-10T07:32:06.150055Z",
     "iopub.status.busy": "2024-10-10T07:32:06.149534Z",
     "iopub.status.idle": "2024-10-10T07:32:06.154232Z",
     "shell.execute_reply": "2024-10-10T07:32:06.153285Z"
    },
    "papermill": {
     "duration": 0.020116,
     "end_time": "2024-10-10T07:32:06.156239",
     "exception": false,
     "start_time": "2024-10-10T07:32:06.136123",
     "status": "completed"
    },
    "tags": []
   },
   "outputs": [],
   "source": [
    "# # import pandas as pd\n",
    "# # import numpy as np\n",
    "# # # Loading the CSV file\n",
    "# # df=pd.read_csv('/kaggle/input/gsr-collection-for-mental-strain/Low_MWL/Low_MWL/p2l.csv')\n",
    "# # display(df)    # 2nd person's low mwl data\n",
    "\n",
    "# display(df) # 2nd person's low mwl data"
   ]
  },
  {
   "cell_type": "markdown",
   "id": "e73358ea",
   "metadata": {
    "papermill": {
     "duration": 0.011992,
     "end_time": "2024-10-10T07:32:06.180477",
     "exception": false,
     "start_time": "2024-10-10T07:32:06.168485",
     "status": "completed"
    },
    "tags": []
   },
   "source": [
    "**Consider set 1 as first 768 rows of the data**"
   ]
  },
  {
   "cell_type": "code",
   "execution_count": 12,
   "id": "d499dff8",
   "metadata": {
    "execution": {
     "iopub.execute_input": "2024-10-10T07:32:06.207133Z",
     "iopub.status.busy": "2024-10-10T07:32:06.206733Z",
     "iopub.status.idle": "2024-10-10T07:32:06.211082Z",
     "shell.execute_reply": "2024-10-10T07:32:06.210080Z"
    },
    "papermill": {
     "duration": 0.020311,
     "end_time": "2024-10-10T07:32:06.213180",
     "exception": false,
     "start_time": "2024-10-10T07:32:06.192869",
     "status": "completed"
    },
    "tags": []
   },
   "outputs": [],
   "source": [
    "# sc_X = StandardScaler()\n",
    "# X = sc_X.fit_transform(set1) # gives an array of preprocessed values\n",
    "\n",
    "# X"
   ]
  },
  {
   "cell_type": "code",
   "execution_count": 13,
   "id": "21258ff7",
   "metadata": {
    "execution": {
     "iopub.execute_input": "2024-10-10T07:32:06.239415Z",
     "iopub.status.busy": "2024-10-10T07:32:06.239063Z",
     "iopub.status.idle": "2024-10-10T07:32:06.243465Z",
     "shell.execute_reply": "2024-10-10T07:32:06.242517Z"
    },
    "papermill": {
     "duration": 0.020054,
     "end_time": "2024-10-10T07:32:06.245566",
     "exception": false,
     "start_time": "2024-10-10T07:32:06.225512",
     "status": "completed"
    },
    "tags": []
   },
   "outputs": [],
   "source": [
    "# from sklearn.preprocessing import StandardScaler\n",
    "# import numpy as np\n",
    "# import matplotlib.pyplot as plt\n",
    "\n",
    "# set1=df.iloc[0:768]\n",
    "# set1\n",
    "\n"
   ]
  },
  {
   "cell_type": "markdown",
   "id": "5f4418e1",
   "metadata": {
    "papermill": {
     "duration": 0.01193,
     "end_time": "2024-10-10T07:32:06.269976",
     "exception": false,
     "start_time": "2024-10-10T07:32:06.258046",
     "status": "completed"
    },
    "tags": []
   },
   "source": [
    "**Applying preprocessing as standard scaling**"
   ]
  },
  {
   "cell_type": "code",
   "execution_count": 14,
   "id": "33f275ec",
   "metadata": {
    "execution": {
     "iopub.execute_input": "2024-10-10T07:32:06.296378Z",
     "iopub.status.busy": "2024-10-10T07:32:06.296034Z",
     "iopub.status.idle": "2024-10-10T07:32:06.300181Z",
     "shell.execute_reply": "2024-10-10T07:32:06.299323Z"
    },
    "papermill": {
     "duration": 0.019968,
     "end_time": "2024-10-10T07:32:06.302172",
     "exception": false,
     "start_time": "2024-10-10T07:32:06.282204",
     "status": "completed"
    },
    "tags": []
   },
   "outputs": [],
   "source": [
    "# X.shape # checking shape of array"
   ]
  },
  {
   "cell_type": "code",
   "execution_count": 15,
   "id": "172e63f7",
   "metadata": {
    "execution": {
     "iopub.execute_input": "2024-10-10T07:32:06.328362Z",
     "iopub.status.busy": "2024-10-10T07:32:06.328006Z",
     "iopub.status.idle": "2024-10-10T07:32:06.331953Z",
     "shell.execute_reply": "2024-10-10T07:32:06.331026Z"
    },
    "papermill": {
     "duration": 0.019268,
     "end_time": "2024-10-10T07:32:06.333815",
     "exception": false,
     "start_time": "2024-10-10T07:32:06.314547",
     "status": "completed"
    },
    "tags": []
   },
   "outputs": [],
   "source": [
    "# xdf=pd.DataFrame(X) # converting array into dataframe\n",
    "\n",
    "# xdf[0] # scaledvalues of column 1"
   ]
  },
  {
   "cell_type": "code",
   "execution_count": 16,
   "id": "e7710472",
   "metadata": {
    "execution": {
     "iopub.execute_input": "2024-10-10T07:32:06.360196Z",
     "iopub.status.busy": "2024-10-10T07:32:06.359585Z",
     "iopub.status.idle": "2024-10-10T07:32:06.364119Z",
     "shell.execute_reply": "2024-10-10T07:32:06.363068Z"
    },
    "papermill": {
     "duration": 0.020507,
     "end_time": "2024-10-10T07:32:06.366591",
     "exception": false,
     "start_time": "2024-10-10T07:32:06.346084",
     "status": "completed"
    },
    "tags": []
   },
   "outputs": [],
   "source": [
    "# sampling_rate = 256 \n",
    "# signal=xdf[0].values\n",
    "\n",
    "# t=np.arange(len(signal))/sampling_rate"
   ]
  },
  {
   "cell_type": "code",
   "execution_count": 17,
   "id": "b98afddc",
   "metadata": {
    "execution": {
     "iopub.execute_input": "2024-10-10T07:32:06.393995Z",
     "iopub.status.busy": "2024-10-10T07:32:06.393618Z",
     "iopub.status.idle": "2024-10-10T07:32:06.398041Z",
     "shell.execute_reply": "2024-10-10T07:32:06.397038Z"
    },
    "papermill": {
     "duration": 0.020778,
     "end_time": "2024-10-10T07:32:06.400049",
     "exception": false,
     "start_time": "2024-10-10T07:32:06.379271",
     "status": "completed"
    },
    "tags": []
   },
   "outputs": [],
   "source": [
    "# s = set1[['Trial 1:0back']].values\n",
    "# fig, axes = plt.subplots(2, figsize = (12, 12))\n",
    "\n",
    "# # input signal vs preprocessed signal\n",
    "\n",
    "# ax=axes[0]\n",
    "# ax.plot(t,s)\n",
    "# ax.set_ylabel('Amplitude')\n",
    "# ax.set_title('Input GSR')\n",
    "\n",
    "# ax = axes[1]\n",
    "# ax.plot(t, signal)\n",
    "# ax.set_ylabel('Amplitude')\n",
    "# ax.set_xlabel('Time(sec)')\n",
    "# ax.set_title('Preprocessed GSR')"
   ]
  },
  {
   "cell_type": "markdown",
   "id": "5a428828",
   "metadata": {
    "papermill": {
     "duration": 0.012564,
     "end_time": "2024-10-10T07:32:06.425160",
     "exception": false,
     "start_time": "2024-10-10T07:32:06.412596",
     "status": "completed"
    },
    "tags": []
   },
   "source": [
    "# **Continuous Wavelet Transform (CWT)**\n",
    "\n",
    "CWT to analyze both time and frequency characteristics of signals simultaneously\n",
    "\n",
    "- Involves scaling and translating a wavelet function across the signal to capture different frequency components at various time scales\n",
    "\n",
    "- Result is a time-frequency representation known as scalogram for tasks like signal denoising, feature extraction, and pattern recognition\n",
    "\n",
    "- CWT is advantageous for continuous analysis capability but can be computationally intensive compared to the Discrete Wavelet Transform (DWT)\n"
   ]
  },
  {
   "cell_type": "code",
   "execution_count": 18,
   "id": "98e7f6aa",
   "metadata": {
    "execution": {
     "iopub.execute_input": "2024-10-10T07:32:06.452123Z",
     "iopub.status.busy": "2024-10-10T07:32:06.451255Z",
     "iopub.status.idle": "2024-10-10T07:32:06.523250Z",
     "shell.execute_reply": "2024-10-10T07:32:06.522472Z"
    },
    "papermill": {
     "duration": 0.087991,
     "end_time": "2024-10-10T07:32:06.525561",
     "exception": false,
     "start_time": "2024-10-10T07:32:06.437570",
     "status": "completed"
    },
    "tags": []
   },
   "outputs": [],
   "source": [
    "import pywt"
   ]
  },
  {
   "cell_type": "code",
   "execution_count": 19,
   "id": "8b2c5364",
   "metadata": {
    "execution": {
     "iopub.execute_input": "2024-10-10T07:32:06.553221Z",
     "iopub.status.busy": "2024-10-10T07:32:06.552252Z",
     "iopub.status.idle": "2024-10-10T07:32:06.559932Z",
     "shell.execute_reply": "2024-10-10T07:32:06.559090Z"
    },
    "papermill": {
     "duration": 0.02374,
     "end_time": "2024-10-10T07:32:06.561984",
     "exception": false,
     "start_time": "2024-10-10T07:32:06.538244",
     "status": "completed"
    },
    "tags": []
   },
   "outputs": [
    {
     "data": {
      "text/plain": [
       "['cgau1',\n",
       " 'cgau2',\n",
       " 'cgau3',\n",
       " 'cgau4',\n",
       " 'cgau5',\n",
       " 'cgau6',\n",
       " 'cgau7',\n",
       " 'cgau8',\n",
       " 'cmor',\n",
       " 'fbsp',\n",
       " 'gaus1',\n",
       " 'gaus2',\n",
       " 'gaus3',\n",
       " 'gaus4',\n",
       " 'gaus5',\n",
       " 'gaus6',\n",
       " 'gaus7',\n",
       " 'gaus8',\n",
       " 'mexh',\n",
       " 'morl',\n",
       " 'shan']"
      ]
     },
     "execution_count": 19,
     "metadata": {},
     "output_type": "execute_result"
    }
   ],
   "source": [
    "wavlist = pywt.wavelist(kind='continuous')\n",
    "wavlist"
   ]
  },
  {
   "cell_type": "markdown",
   "id": "b9b7cfe9",
   "metadata": {
    "papermill": {
     "duration": 0.012505,
     "end_time": "2024-10-10T07:32:06.587218",
     "exception": false,
     "start_time": "2024-10-10T07:32:06.574713",
     "status": "completed"
    },
    "tags": []
   },
   "source": [
    "Normally used(supported) wavelets:\n",
    "\n",
    "* Mexican Hat (mexh),\n",
    "* Morlet (morl),\n",
    "* Complex Morlet (cmorB-C),\n",
    "* Gaussian Derivative (gausP),\n",
    "* Complex Gaussian Derivative (cgauP)\n",
    "* Shannon (shanB-C),\n",
    "* Frequency B-Spline (fbspB-C)"
   ]
  },
  {
   "cell_type": "code",
   "execution_count": 20,
   "id": "5c7bb6b7",
   "metadata": {
    "execution": {
     "iopub.execute_input": "2024-10-10T07:32:06.615791Z",
     "iopub.status.busy": "2024-10-10T07:32:06.615022Z",
     "iopub.status.idle": "2024-10-10T07:32:06.619741Z",
     "shell.execute_reply": "2024-10-10T07:32:06.618855Z"
    },
    "papermill": {
     "duration": 0.020881,
     "end_time": "2024-10-10T07:32:06.621686",
     "exception": false,
     "start_time": "2024-10-10T07:32:06.600805",
     "status": "completed"
    },
    "tags": []
   },
   "outputs": [],
   "source": [
    "# l = len(signal)\n",
    "# wavelet = 'morl'\n",
    "\n",
    "# # calculate nyquist frequency (nf)\n",
    "# nyquist_freq = sampling_rate /2\n",
    "# # although min scale is taken as 1/nf\n",
    "# # it is too small here and so \n",
    "# mins =1\n",
    "# maxs=270\n",
    "# scales=np.arange(mins,maxs+1)\n",
    "\n",
    "# '''\n",
    "# CWT using Python wavelet module (pywt)\n",
    "# - signal: input signal (array)\n",
    "# - scales: scales to be used for CWT (array)\n",
    "# - wavelet: name of wavelet used (string)\n",
    "\n",
    "# - Other parameters:\n",
    "# - method: {'conv' , 'fft'} (optional)\n",
    "# - sampling_period: seconds for output freqs (float) (optional)\n",
    "# - axis: a number (int) (optional)\n",
    "\n",
    "# '''\n",
    "\n",
    "# coef , freqs = pywt.cwt(signal , scales,wavelet)\n",
    "\n",
    "# # coef : CWT coefficients (array)\n",
    "# # freqs : frequencies corresponding to scales (array)\n"
   ]
  },
  {
   "cell_type": "code",
   "execution_count": 21,
   "id": "7b868655",
   "metadata": {
    "execution": {
     "iopub.execute_input": "2024-10-10T07:32:06.649419Z",
     "iopub.status.busy": "2024-10-10T07:32:06.648606Z",
     "iopub.status.idle": "2024-10-10T07:32:06.652874Z",
     "shell.execute_reply": "2024-10-10T07:32:06.651960Z"
    },
    "papermill": {
     "duration": 0.02028,
     "end_time": "2024-10-10T07:32:06.654811",
     "exception": false,
     "start_time": "2024-10-10T07:32:06.634531",
     "status": "completed"
    },
    "tags": []
   },
   "outputs": [],
   "source": [
    "# coef.shape"
   ]
  },
  {
   "cell_type": "code",
   "execution_count": 22,
   "id": "d2bdae1f",
   "metadata": {
    "execution": {
     "iopub.execute_input": "2024-10-10T07:32:06.682520Z",
     "iopub.status.busy": "2024-10-10T07:32:06.681888Z",
     "iopub.status.idle": "2024-10-10T07:32:06.685986Z",
     "shell.execute_reply": "2024-10-10T07:32:06.685116Z"
    },
    "papermill": {
     "duration": 0.020112,
     "end_time": "2024-10-10T07:32:06.687864",
     "exception": false,
     "start_time": "2024-10-10T07:32:06.667752",
     "status": "completed"
    },
    "tags": []
   },
   "outputs": [],
   "source": [
    "# freqs.shape"
   ]
  },
  {
   "cell_type": "markdown",
   "id": "4b11aac9",
   "metadata": {
    "papermill": {
     "duration": 0.012939,
     "end_time": "2024-10-10T07:32:06.713824",
     "exception": false,
     "start_time": "2024-10-10T07:32:06.700885",
     "status": "completed"
    },
    "tags": []
   },
   "source": [
    "**Visualizing CWT**"
   ]
  },
  {
   "cell_type": "code",
   "execution_count": 23,
   "id": "37f4de51",
   "metadata": {
    "execution": {
     "iopub.execute_input": "2024-10-10T07:32:06.742221Z",
     "iopub.status.busy": "2024-10-10T07:32:06.741623Z",
     "iopub.status.idle": "2024-10-10T07:32:06.745557Z",
     "shell.execute_reply": "2024-10-10T07:32:06.744699Z"
    },
    "papermill": {
     "duration": 0.020243,
     "end_time": "2024-10-10T07:32:06.747495",
     "exception": false,
     "start_time": "2024-10-10T07:32:06.727252",
     "status": "completed"
    },
    "tags": []
   },
   "outputs": [],
   "source": [
    "# PLOTTING SCALOGRAM\n",
    "\n"
   ]
  },
  {
   "cell_type": "markdown",
   "id": "a9f6ed78",
   "metadata": {
    "papermill": {
     "duration": 0.012835,
     "end_time": "2024-10-10T07:32:06.773250",
     "exception": false,
     "start_time": "2024-10-10T07:32:06.760415",
     "status": "completed"
    },
    "tags": []
   },
   "source": [
    "# Merge CSV files (old method)"
   ]
  },
  {
   "cell_type": "code",
   "execution_count": 24,
   "id": "15521b2e",
   "metadata": {
    "execution": {
     "iopub.execute_input": "2024-10-10T07:32:06.801727Z",
     "iopub.status.busy": "2024-10-10T07:32:06.800932Z",
     "iopub.status.idle": "2024-10-10T07:32:06.807286Z",
     "shell.execute_reply": "2024-10-10T07:32:06.806343Z"
    },
    "papermill": {
     "duration": 0.022892,
     "end_time": "2024-10-10T07:32:06.809219",
     "exception": false,
     "start_time": "2024-10-10T07:32:06.786327",
     "status": "completed"
    },
    "tags": []
   },
   "outputs": [],
   "source": [
    "# # merging twenty two csv files of Low workload\n",
    "# low_data = pd.concat(\n",
    "#     map(pd.read_csv, ['/kaggle/input/gsr-collection-for-mental-strain/Low_MWL/Low_MWL/p2l.csv','/kaggle/input/gsr-collection-for-mental-strain/Low_MWL/Low_MWL/p3l.csv','/kaggle/input/gsr-collection-for-mental-strain/Low_MWL/Low_MWL/p4l.csv','/kaggle/input/gsr-collection-for-mental-strain/Low_MWL/Low_MWL/p5l.csv','/kaggle/input/gsr-collection-for-mental-strain/Low_MWL/Low_MWL/p6l.csv','/kaggle/input/gsr-collection-for-mental-strain/Low_MWL/Low_MWL/p8l.csv','/kaggle/input/gsr-collection-for-mental-strain/Low_MWL/Low_MWL/p10l.csv','/kaggle/input/gsr-collection-for-mental-strain/Low_MWL/Low_MWL/p11l.csv','/kaggle/input/gsr-collection-for-mental-strain/Low_MWL/Low_MWL/p12l.csv','/kaggle/input/gsr-collection-for-mental-strain/Low_MWL/Low_MWL/p13l.csv','/kaggle/input/gsr-collection-for-mental-strain/Low_MWL/Low_MWL/p14l.csv','/kaggle/input/gsr-collection-for-mental-strain/Low_MWL/Low_MWL/p15l.csv','/kaggle/input/gsr-collection-for-mental-strain/Low_MWL/Low_MWL/p16l.csv','/kaggle/input/gsr-collection-for-mental-strain/Low_MWL/Low_MWL/p17l.csv','/kaggle/input/gsr-collection-for-mental-strain/Low_MWL/Low_MWL/p18l.csv','/kaggle/input/gsr-collection-for-mental-strain/Low_MWL/Low_MWL/p19l.csv','/kaggle/input/gsr-collection-for-mental-strain/Low_MWL/Low_MWL/p20l.csv','/kaggle/input/gsr-collection-for-mental-strain/Low_MWL/Low_MWL/p21l.csv','/kaggle/input/gsr-collection-for-mental-strain/Low_MWL/Low_MWL/p22l.csv','/kaggle/input/gsr-collection-for-mental-strain/Low_MWL/Low_MWL/p23l.csv','/kaggle/input/gsr-collection-for-mental-strain/Low_MWL/Low_MWL/p24l.csv','/kaggle/input/gsr-collection-for-mental-strain/Low_MWL/Low_MWL/p25l.csv']), ignore_index=True)\n",
    "\n",
    "# # merging twenty two csv files of High workload\n",
    "# high_data = pd.concat(\n",
    "#     map(pd.read_csv, ['/kaggle/input/gsr-collection-for-mental-strain/High_MWL/High_MWL/p2h.csv','/kaggle/input/gsr-collection-for-mental-strain/High_MWL/High_MWL/p3h.csv','/kaggle/input/gsr-collection-for-mental-strain/High_MWL/High_MWL/p4h.csv','/kaggle/input/gsr-collection-for-mental-strain/High_MWL/High_MWL/p5h.csv','/kaggle/input/gsr-collection-for-mental-strain/High_MWL/High_MWL/p6h.csv','/kaggle/input/gsr-collection-for-mental-strain/High_MWL/High_MWL/p8h.csv','/kaggle/input/gsr-collection-for-mental-strain/High_MWL/High_MWL/p10h.csv','/kaggle/input/gsr-collection-for-mental-strain/High_MWL/High_MWL/p11h.csv','/kaggle/input/gsr-collection-for-mental-strain/High_MWL/High_MWL/p12h.csv','/kaggle/input/gsr-collection-for-mental-strain/High_MWL/High_MWL/p13h.csv','/kaggle/input/gsr-collection-for-mental-strain/High_MWL/High_MWL/p14h.csv','/kaggle/input/gsr-collection-for-mental-strain/High_MWL/High_MWL/p15h.csv','/kaggle/input/gsr-collection-for-mental-strain/High_MWL/High_MWL/p16h.csv','/kaggle/input/gsr-collection-for-mental-strain/High_MWL/High_MWL/p17h.csv','/kaggle/input/gsr-collection-for-mental-strain/High_MWL/High_MWL/p18h.csv','/kaggle/input/gsr-collection-for-mental-strain/High_MWL/High_MWL/p19h.csv','/kaggle/input/gsr-collection-for-mental-strain/High_MWL/High_MWL/p20h.csv','/kaggle/input/gsr-collection-for-mental-strain/High_MWL/High_MWL/p21h.csv','/kaggle/input/gsr-collection-for-mental-strain/High_MWL/High_MWL/p22h.csv','/kaggle/input/gsr-collection-for-mental-strain/High_MWL/High_MWL/p23h.csv','/kaggle/input/gsr-collection-for-mental-strain/High_MWL/High_MWL/p24h.csv','/kaggle/input/gsr-collection-for-mental-strain/High_MWL/High_MWL/p25h.csv']), ignore_index=True)\n",
    "\n",
    "# # Saving combo dataframes as csv files for later application\n",
    "# gsr_high_data = low_data.to_csv('GSR_high.csv', index = True)\n",
    "# gsr_low_data = high_data.to_csv('GSR_low.csv', index = True)"
   ]
  },
  {
   "cell_type": "markdown",
   "id": "640c8f04",
   "metadata": {
    "papermill": {
     "duration": 0.013333,
     "end_time": "2024-10-10T07:32:06.835816",
     "exception": false,
     "start_time": "2024-10-10T07:32:06.822483",
     "status": "completed"
    },
    "tags": []
   },
   "source": [
    "# Merge CSV files (NEW method)\n",
    "\n",
    "**11 persons for LOW MWL combined into 1 dataframe OR CSV**\n",
    "\n",
    "**11 persons for HIGH MWL combines into 1 dataframe OR CSV**"
   ]
  },
  {
   "cell_type": "code",
   "execution_count": 25,
   "id": "815e164c",
   "metadata": {
    "execution": {
     "iopub.execute_input": "2024-10-10T07:32:06.863975Z",
     "iopub.status.busy": "2024-10-10T07:32:06.863144Z",
     "iopub.status.idle": "2024-10-10T07:32:07.741220Z",
     "shell.execute_reply": "2024-10-10T07:32:07.739661Z"
    },
    "papermill": {
     "duration": 0.895088,
     "end_time": "2024-10-10T07:32:07.743972",
     "exception": false,
     "start_time": "2024-10-10T07:32:06.848884",
     "status": "completed"
    },
    "tags": []
   },
   "outputs": [
    {
     "name": "stdout",
     "output_type": "stream",
     "text": [
      "Low workload data:\n",
      "   Trial 1:0back  Trial 6:0back\n",
      "0          0.632          5.097\n",
      "1          0.633          5.097\n",
      "2          0.633          5.096\n",
      "3          0.633          5.095\n",
      "4          0.633          5.095\n",
      "\n",
      "High workload data:\n",
      "   Trial 3:3back  Trial 5:3back\n",
      "0          2.403          4.060\n",
      "1          2.403          4.060\n",
      "2          2.403          4.061\n",
      "3          2.403          4.062\n",
      "4          2.403          4.063\n"
     ]
    }
   ],
   "source": [
    "import os\n",
    "import pandas as pd\n",
    "\n",
    "# Define the directories for Low and High workload data\n",
    "low_mwl_dir = '/kaggle/input/gsr-collection-for-mental-strain/Low_MWL/Low_MWL/'\n",
    "high_mwl_dir = '/kaggle/input/gsr-collection-for-mental-strain/High_MWL/High_MWL/'\n",
    "\n",
    "# Get list of files in Low_MWL directory, filter only '.csv' files, and sort them\n",
    "low_mwl_files = sorted([os.path.join(low_mwl_dir, f) for f in os.listdir(low_mwl_dir) if f.endswith('.csv')])[:11]\n",
    "\n",
    "# Get list of files in High_MWL directory, filter only '.csv' files, and sort them\n",
    "high_mwl_files = sorted([os.path.join(high_mwl_dir, f) for f in os.listdir(high_mwl_dir) if f.endswith('.csv')])[:11]\n",
    "\n",
    "# Merging first 11 CSV files of Low workload\n",
    "low_data = pd.concat(map(pd.read_csv, low_mwl_files), ignore_index=True)\n",
    "\n",
    "# Merging first 11 CSV files of High workload\n",
    "high_data = pd.concat(map(pd.read_csv, high_mwl_files), ignore_index=True)\n",
    "\n",
    "# Output the first few rows to confirm the data\n",
    "print(\"Low workload data:\")\n",
    "print(low_data.head())\n",
    "\n",
    "print(\"\\nHigh workload data:\")\n",
    "print(high_data.head())\n"
   ]
  },
  {
   "cell_type": "code",
   "execution_count": 26,
   "id": "40de1d3b",
   "metadata": {
    "execution": {
     "iopub.execute_input": "2024-10-10T07:32:07.773921Z",
     "iopub.status.busy": "2024-10-10T07:32:07.773094Z",
     "iopub.status.idle": "2024-10-10T07:32:07.788953Z",
     "shell.execute_reply": "2024-10-10T07:32:07.788038Z"
    },
    "papermill": {
     "duration": 0.032659,
     "end_time": "2024-10-10T07:32:07.791284",
     "exception": false,
     "start_time": "2024-10-10T07:32:07.758625",
     "status": "completed"
    },
    "tags": []
   },
   "outputs": [
    {
     "data": {
      "text/html": [
       "<div>\n",
       "<style scoped>\n",
       "    .dataframe tbody tr th:only-of-type {\n",
       "        vertical-align: middle;\n",
       "    }\n",
       "\n",
       "    .dataframe tbody tr th {\n",
       "        vertical-align: top;\n",
       "    }\n",
       "\n",
       "    .dataframe thead th {\n",
       "        text-align: right;\n",
       "    }\n",
       "</style>\n",
       "<table border=\"1\" class=\"dataframe\">\n",
       "  <thead>\n",
       "    <tr style=\"text-align: right;\">\n",
       "      <th></th>\n",
       "      <th>Trial 1:0back</th>\n",
       "      <th>Trial 6:0back</th>\n",
       "    </tr>\n",
       "  </thead>\n",
       "  <tbody>\n",
       "    <tr>\n",
       "      <th>0</th>\n",
       "      <td>0.632</td>\n",
       "      <td>5.097</td>\n",
       "    </tr>\n",
       "    <tr>\n",
       "      <th>1</th>\n",
       "      <td>0.633</td>\n",
       "      <td>5.097</td>\n",
       "    </tr>\n",
       "    <tr>\n",
       "      <th>2</th>\n",
       "      <td>0.633</td>\n",
       "      <td>5.096</td>\n",
       "    </tr>\n",
       "    <tr>\n",
       "      <th>3</th>\n",
       "      <td>0.633</td>\n",
       "      <td>5.095</td>\n",
       "    </tr>\n",
       "    <tr>\n",
       "      <th>4</th>\n",
       "      <td>0.633</td>\n",
       "      <td>5.095</td>\n",
       "    </tr>\n",
       "    <tr>\n",
       "      <th>...</th>\n",
       "      <td>...</td>\n",
       "      <td>...</td>\n",
       "    </tr>\n",
       "    <tr>\n",
       "      <th>844795</th>\n",
       "      <td>1.946</td>\n",
       "      <td>2.251</td>\n",
       "    </tr>\n",
       "    <tr>\n",
       "      <th>844796</th>\n",
       "      <td>1.946</td>\n",
       "      <td>2.251</td>\n",
       "    </tr>\n",
       "    <tr>\n",
       "      <th>844797</th>\n",
       "      <td>1.946</td>\n",
       "      <td>2.251</td>\n",
       "    </tr>\n",
       "    <tr>\n",
       "      <th>844798</th>\n",
       "      <td>1.946</td>\n",
       "      <td>2.250</td>\n",
       "    </tr>\n",
       "    <tr>\n",
       "      <th>844799</th>\n",
       "      <td>1.947</td>\n",
       "      <td>2.251</td>\n",
       "    </tr>\n",
       "  </tbody>\n",
       "</table>\n",
       "<p>844800 rows × 2 columns</p>\n",
       "</div>"
      ],
      "text/plain": [
       "        Trial 1:0back  Trial 6:0back\n",
       "0               0.632          5.097\n",
       "1               0.633          5.097\n",
       "2               0.633          5.096\n",
       "3               0.633          5.095\n",
       "4               0.633          5.095\n",
       "...               ...            ...\n",
       "844795          1.946          2.251\n",
       "844796          1.946          2.251\n",
       "844797          1.946          2.251\n",
       "844798          1.946          2.250\n",
       "844799          1.947          2.251\n",
       "\n",
       "[844800 rows x 2 columns]"
      ]
     },
     "metadata": {},
     "output_type": "display_data"
    }
   ],
   "source": [
    "# low mental workload data\n",
    "\n",
    "display(low_data)"
   ]
  },
  {
   "cell_type": "code",
   "execution_count": 27,
   "id": "7cdfb53b",
   "metadata": {
    "execution": {
     "iopub.execute_input": "2024-10-10T07:32:07.822190Z",
     "iopub.status.busy": "2024-10-10T07:32:07.821358Z",
     "iopub.status.idle": "2024-10-10T07:32:07.832857Z",
     "shell.execute_reply": "2024-10-10T07:32:07.832052Z"
    },
    "papermill": {
     "duration": 0.02877,
     "end_time": "2024-10-10T07:32:07.834846",
     "exception": false,
     "start_time": "2024-10-10T07:32:07.806076",
     "status": "completed"
    },
    "tags": []
   },
   "outputs": [
    {
     "data": {
      "text/html": [
       "<div>\n",
       "<style scoped>\n",
       "    .dataframe tbody tr th:only-of-type {\n",
       "        vertical-align: middle;\n",
       "    }\n",
       "\n",
       "    .dataframe tbody tr th {\n",
       "        vertical-align: top;\n",
       "    }\n",
       "\n",
       "    .dataframe thead th {\n",
       "        text-align: right;\n",
       "    }\n",
       "</style>\n",
       "<table border=\"1\" class=\"dataframe\">\n",
       "  <thead>\n",
       "    <tr style=\"text-align: right;\">\n",
       "      <th></th>\n",
       "      <th>Trial 3:3back</th>\n",
       "      <th>Trial 5:3back</th>\n",
       "    </tr>\n",
       "  </thead>\n",
       "  <tbody>\n",
       "    <tr>\n",
       "      <th>0</th>\n",
       "      <td>2.403</td>\n",
       "      <td>4.060</td>\n",
       "    </tr>\n",
       "    <tr>\n",
       "      <th>1</th>\n",
       "      <td>2.403</td>\n",
       "      <td>4.060</td>\n",
       "    </tr>\n",
       "    <tr>\n",
       "      <th>2</th>\n",
       "      <td>2.403</td>\n",
       "      <td>4.061</td>\n",
       "    </tr>\n",
       "    <tr>\n",
       "      <th>3</th>\n",
       "      <td>2.403</td>\n",
       "      <td>4.062</td>\n",
       "    </tr>\n",
       "    <tr>\n",
       "      <th>4</th>\n",
       "      <td>2.403</td>\n",
       "      <td>4.063</td>\n",
       "    </tr>\n",
       "    <tr>\n",
       "      <th>...</th>\n",
       "      <td>...</td>\n",
       "      <td>...</td>\n",
       "    </tr>\n",
       "    <tr>\n",
       "      <th>844795</th>\n",
       "      <td>2.111</td>\n",
       "      <td>2.422</td>\n",
       "    </tr>\n",
       "    <tr>\n",
       "      <th>844796</th>\n",
       "      <td>2.111</td>\n",
       "      <td>2.422</td>\n",
       "    </tr>\n",
       "    <tr>\n",
       "      <th>844797</th>\n",
       "      <td>2.112</td>\n",
       "      <td>2.422</td>\n",
       "    </tr>\n",
       "    <tr>\n",
       "      <th>844798</th>\n",
       "      <td>2.111</td>\n",
       "      <td>2.422</td>\n",
       "    </tr>\n",
       "    <tr>\n",
       "      <th>844799</th>\n",
       "      <td>2.111</td>\n",
       "      <td>2.422</td>\n",
       "    </tr>\n",
       "  </tbody>\n",
       "</table>\n",
       "<p>844800 rows × 2 columns</p>\n",
       "</div>"
      ],
      "text/plain": [
       "        Trial 3:3back  Trial 5:3back\n",
       "0               2.403          4.060\n",
       "1               2.403          4.060\n",
       "2               2.403          4.061\n",
       "3               2.403          4.062\n",
       "4               2.403          4.063\n",
       "...               ...            ...\n",
       "844795          2.111          2.422\n",
       "844796          2.111          2.422\n",
       "844797          2.112          2.422\n",
       "844798          2.111          2.422\n",
       "844799          2.111          2.422\n",
       "\n",
       "[844800 rows x 2 columns]"
      ]
     },
     "metadata": {},
     "output_type": "display_data"
    }
   ],
   "source": [
    "# high mental workload data\n",
    "display(high_data)"
   ]
  },
  {
   "cell_type": "markdown",
   "id": "11a8225d",
   "metadata": {
    "papermill": {
     "duration": 0.013929,
     "end_time": "2024-10-10T07:32:07.863197",
     "exception": false,
     "start_time": "2024-10-10T07:32:07.849268",
     "status": "completed"
    },
    "tags": []
   },
   "source": [
    "# Working on LOW mental workload data"
   ]
  },
  {
   "cell_type": "code",
   "execution_count": 28,
   "id": "3d5fe253",
   "metadata": {
    "execution": {
     "iopub.execute_input": "2024-10-10T07:32:07.892728Z",
     "iopub.status.busy": "2024-10-10T07:32:07.892088Z",
     "iopub.status.idle": "2024-10-10T07:32:08.059600Z",
     "shell.execute_reply": "2024-10-10T07:32:08.058607Z"
    },
    "papermill": {
     "duration": 0.184666,
     "end_time": "2024-10-10T07:32:08.061829",
     "exception": false,
     "start_time": "2024-10-10T07:32:07.877163",
     "status": "completed"
    },
    "tags": []
   },
   "outputs": [
    {
     "data": {
      "text/html": [
       "<div>\n",
       "<style scoped>\n",
       "    .dataframe tbody tr th:only-of-type {\n",
       "        vertical-align: middle;\n",
       "    }\n",
       "\n",
       "    .dataframe tbody tr th {\n",
       "        vertical-align: top;\n",
       "    }\n",
       "\n",
       "    .dataframe thead th {\n",
       "        text-align: right;\n",
       "    }\n",
       "</style>\n",
       "<table border=\"1\" class=\"dataframe\">\n",
       "  <thead>\n",
       "    <tr style=\"text-align: right;\">\n",
       "      <th></th>\n",
       "      <th>0</th>\n",
       "      <th>1</th>\n",
       "      <th>Label</th>\n",
       "    </tr>\n",
       "  </thead>\n",
       "  <tbody>\n",
       "    <tr>\n",
       "      <th>0</th>\n",
       "      <td>-0.579450</td>\n",
       "      <td>0.491228</td>\n",
       "      <td>0</td>\n",
       "    </tr>\n",
       "    <tr>\n",
       "      <th>1</th>\n",
       "      <td>-0.579166</td>\n",
       "      <td>0.491228</td>\n",
       "      <td>0</td>\n",
       "    </tr>\n",
       "    <tr>\n",
       "      <th>2</th>\n",
       "      <td>-0.579166</td>\n",
       "      <td>0.490941</td>\n",
       "      <td>0</td>\n",
       "    </tr>\n",
       "    <tr>\n",
       "      <th>3</th>\n",
       "      <td>-0.579166</td>\n",
       "      <td>0.490653</td>\n",
       "      <td>0</td>\n",
       "    </tr>\n",
       "    <tr>\n",
       "      <th>4</th>\n",
       "      <td>-0.579166</td>\n",
       "      <td>0.490653</td>\n",
       "      <td>0</td>\n",
       "    </tr>\n",
       "    <tr>\n",
       "      <th>...</th>\n",
       "      <td>...</td>\n",
       "      <td>...</td>\n",
       "      <td>...</td>\n",
       "    </tr>\n",
       "    <tr>\n",
       "      <th>844795</th>\n",
       "      <td>-0.206997</td>\n",
       "      <td>-0.326997</td>\n",
       "      <td>0</td>\n",
       "    </tr>\n",
       "    <tr>\n",
       "      <th>844796</th>\n",
       "      <td>-0.206997</td>\n",
       "      <td>-0.326997</td>\n",
       "      <td>0</td>\n",
       "    </tr>\n",
       "    <tr>\n",
       "      <th>844797</th>\n",
       "      <td>-0.206997</td>\n",
       "      <td>-0.326997</td>\n",
       "      <td>0</td>\n",
       "    </tr>\n",
       "    <tr>\n",
       "      <th>844798</th>\n",
       "      <td>-0.206997</td>\n",
       "      <td>-0.327284</td>\n",
       "      <td>0</td>\n",
       "    </tr>\n",
       "    <tr>\n",
       "      <th>844799</th>\n",
       "      <td>-0.206713</td>\n",
       "      <td>-0.326997</td>\n",
       "      <td>0</td>\n",
       "    </tr>\n",
       "  </tbody>\n",
       "</table>\n",
       "<p>844800 rows × 3 columns</p>\n",
       "</div>"
      ],
      "text/plain": [
       "               0         1  Label\n",
       "0      -0.579450  0.491228      0\n",
       "1      -0.579166  0.491228      0\n",
       "2      -0.579166  0.490941      0\n",
       "3      -0.579166  0.490653      0\n",
       "4      -0.579166  0.490653      0\n",
       "...          ...       ...    ...\n",
       "844795 -0.206997 -0.326997      0\n",
       "844796 -0.206997 -0.326997      0\n",
       "844797 -0.206997 -0.326997      0\n",
       "844798 -0.206997 -0.327284      0\n",
       "844799 -0.206713 -0.326997      0\n",
       "\n",
       "[844800 rows x 3 columns]"
      ]
     },
     "metadata": {},
     "output_type": "display_data"
    }
   ],
   "source": [
    "from sklearn.preprocessing import StandardScaler\n",
    "\n",
    "# preprocessing\n",
    "sc_X = StandardScaler() # standardize values based on mean & standard deviation\n",
    "X=sc_X.fit_transform(low_data)\n",
    "\n",
    "low = pd.DataFrame(X)\n",
    "low['Label']=0\n",
    "display(low)"
   ]
  },
  {
   "cell_type": "markdown",
   "id": "9e81127a",
   "metadata": {
    "papermill": {
     "duration": 0.013993,
     "end_time": "2024-10-10T07:32:08.090161",
     "exception": false,
     "start_time": "2024-10-10T07:32:08.076168",
     "status": "completed"
    },
    "tags": []
   },
   "source": []
  },
  {
   "cell_type": "markdown",
   "id": "32fb2c6d",
   "metadata": {
    "papermill": {
     "duration": 0.014224,
     "end_time": "2024-10-10T07:32:08.118559",
     "exception": false,
     "start_time": "2024-10-10T07:32:08.104335",
     "status": "completed"
    },
    "tags": []
   },
   "source": [
    "# Downsampling LOW MWL Data\n",
    "\n",
    "**Reference for Preprocessing Steps & Downsampling range:\n",
    "**\n",
    "GSR Analysis for Stress: Development and Validation of an \n",
    "Open Source Tool for Noisy Naturalistic GSR Data \n",
    "\n",
    "https://arxiv.org/pdf/2005.01834\n",
    "\n",
    "Ideal range for GSR:\n",
    "\n",
    "1 Hz to 10 Hz\n",
    "\n",
    "Practical range:\n",
    "\n",
    "10-20 Hz\n",
    "\n",
    "For most High resolution use cases:\n",
    "10 - 256 Hz\n",
    "\n",
    "Higher sampling rates like 128 or 256 Hz are used for when you need high temporal precision eg. when synchronizing with other physiological signals like ECG or EEG\n",
    "\n",
    "For most stress detection applications:\n",
    "a high rate like 256 Hz may not provide additional benefit over a lower rate like 10 to 20 Hz"
   ]
  },
  {
   "cell_type": "code",
   "execution_count": 29,
   "id": "bdd3374b",
   "metadata": {
    "execution": {
     "iopub.execute_input": "2024-10-10T07:32:08.149415Z",
     "iopub.status.busy": "2024-10-10T07:32:08.148466Z",
     "iopub.status.idle": "2024-10-10T07:32:08.163608Z",
     "shell.execute_reply": "2024-10-10T07:32:08.162616Z"
    },
    "papermill": {
     "duration": 0.032789,
     "end_time": "2024-10-10T07:32:08.165681",
     "exception": false,
     "start_time": "2024-10-10T07:32:08.132892",
     "status": "completed"
    },
    "tags": []
   },
   "outputs": [
    {
     "name": "stdout",
     "output_type": "stream",
     "text": [
      "Original number of data points: 844800\n",
      "Downsampled number of data points: 33792\n"
     ]
    },
    {
     "data": {
      "text/html": [
       "<div>\n",
       "<style scoped>\n",
       "    .dataframe tbody tr th:only-of-type {\n",
       "        vertical-align: middle;\n",
       "    }\n",
       "\n",
       "    .dataframe tbody tr th {\n",
       "        vertical-align: top;\n",
       "    }\n",
       "\n",
       "    .dataframe thead th {\n",
       "        text-align: right;\n",
       "    }\n",
       "</style>\n",
       "<table border=\"1\" class=\"dataframe\">\n",
       "  <thead>\n",
       "    <tr style=\"text-align: right;\">\n",
       "      <th></th>\n",
       "      <th>0</th>\n",
       "      <th>1</th>\n",
       "      <th>Label</th>\n",
       "    </tr>\n",
       "  </thead>\n",
       "  <tbody>\n",
       "    <tr>\n",
       "      <th>0</th>\n",
       "      <td>-0.579450</td>\n",
       "      <td>0.491228</td>\n",
       "      <td>0</td>\n",
       "    </tr>\n",
       "    <tr>\n",
       "      <th>1</th>\n",
       "      <td>-0.579166</td>\n",
       "      <td>0.487778</td>\n",
       "      <td>0</td>\n",
       "    </tr>\n",
       "    <tr>\n",
       "      <th>2</th>\n",
       "      <td>-0.579166</td>\n",
       "      <td>0.482603</td>\n",
       "      <td>0</td>\n",
       "    </tr>\n",
       "    <tr>\n",
       "      <th>3</th>\n",
       "      <td>-0.579166</td>\n",
       "      <td>0.477428</td>\n",
       "      <td>0</td>\n",
       "    </tr>\n",
       "    <tr>\n",
       "      <th>4</th>\n",
       "      <td>-0.579166</td>\n",
       "      <td>0.471966</td>\n",
       "      <td>0</td>\n",
       "    </tr>\n",
       "    <tr>\n",
       "      <th>...</th>\n",
       "      <td>...</td>\n",
       "      <td>...</td>\n",
       "      <td>...</td>\n",
       "    </tr>\n",
       "    <tr>\n",
       "      <th>33787</th>\n",
       "      <td>-0.206147</td>\n",
       "      <td>-0.326422</td>\n",
       "      <td>0</td>\n",
       "    </tr>\n",
       "    <tr>\n",
       "      <th>33788</th>\n",
       "      <td>-0.206147</td>\n",
       "      <td>-0.326709</td>\n",
       "      <td>0</td>\n",
       "    </tr>\n",
       "    <tr>\n",
       "      <th>33789</th>\n",
       "      <td>-0.206997</td>\n",
       "      <td>-0.326709</td>\n",
       "      <td>0</td>\n",
       "    </tr>\n",
       "    <tr>\n",
       "      <th>33790</th>\n",
       "      <td>-0.206713</td>\n",
       "      <td>-0.326709</td>\n",
       "      <td>0</td>\n",
       "    </tr>\n",
       "    <tr>\n",
       "      <th>33791</th>\n",
       "      <td>-0.207280</td>\n",
       "      <td>-0.326709</td>\n",
       "      <td>0</td>\n",
       "    </tr>\n",
       "  </tbody>\n",
       "</table>\n",
       "<p>33792 rows × 3 columns</p>\n",
       "</div>"
      ],
      "text/plain": [
       "              0         1  Label\n",
       "0     -0.579450  0.491228      0\n",
       "1     -0.579166  0.487778      0\n",
       "2     -0.579166  0.482603      0\n",
       "3     -0.579166  0.477428      0\n",
       "4     -0.579166  0.471966      0\n",
       "...         ...       ...    ...\n",
       "33787 -0.206147 -0.326422      0\n",
       "33788 -0.206147 -0.326709      0\n",
       "33789 -0.206997 -0.326709      0\n",
       "33790 -0.206713 -0.326709      0\n",
       "33791 -0.207280 -0.326709      0\n",
       "\n",
       "[33792 rows x 3 columns]"
      ]
     },
     "metadata": {},
     "output_type": "display_data"
    }
   ],
   "source": [
    "# Extract required GSR values and\n",
    "# change sampling rate from 256 Hz to 20 Hz\n",
    "# reduce data points - downsampling\n",
    "\n",
    "\n",
    "original_sampling_rate = 256\n",
    "target_sampling_rate = 10\n",
    "\n",
    "#calculate downsampling factor \n",
    "downsampling_factor = original_sampling_rate // target_sampling_rate\n",
    "\n",
    "# downsample the dataframe by selecting every 13th data point \n",
    "downsampled_low_data = low.iloc[::downsampling_factor , :].reset_index(drop=True)\n",
    "\n",
    "\n",
    "# print the shape to check the reduced number of data points \n",
    "print(\"Original number of data points:\" , len(low))\n",
    "print(\"Downsampled number of data points:\" , len(downsampled_low_data))\n",
    "display(downsampled_low_data)"
   ]
  },
  {
   "cell_type": "markdown",
   "id": "15866aa3",
   "metadata": {
    "papermill": {
     "duration": 0.01456,
     "end_time": "2024-10-10T07:32:08.195282",
     "exception": false,
     "start_time": "2024-10-10T07:32:08.180722",
     "status": "completed"
    },
    "tags": []
   },
   "source": [
    "\n",
    "# Capturing featured scalograms for LOW MWL data in next code block\n",
    "\n",
    "Perform CWT (Continuous Wavelet Transform) \n",
    "1. Extract features\n",
    "2. Combine features with label in new dataframe"
   ]
  },
  {
   "cell_type": "code",
   "execution_count": 30,
   "id": "8b37012f",
   "metadata": {
    "execution": {
     "iopub.execute_input": "2024-10-10T07:32:08.226585Z",
     "iopub.status.busy": "2024-10-10T07:32:08.226213Z",
     "iopub.status.idle": "2024-10-10T07:32:08.232624Z",
     "shell.execute_reply": "2024-10-10T07:32:08.231714Z"
    },
    "papermill": {
     "duration": 0.024445,
     "end_time": "2024-10-10T07:32:08.234547",
     "exception": false,
     "start_time": "2024-10-10T07:32:08.210102",
     "status": "completed"
    },
    "tags": []
   },
   "outputs": [],
   "source": [
    "# import numpy as np\n",
    "# import pandas as pd\n",
    "# import pywt\n",
    "# from tqdm import tqdm  # For progress bar\n",
    "\n",
    "# # Initialize lists to hold the data\n",
    "# setnos, labels, coef_data = [], [], []\n",
    "\n",
    "# # Define scales for CWT\n",
    "# scales = np.arange(1, 129)  # Adjust scales based on your signal\n",
    "\n",
    "# count = 1\n",
    "# print(\"Capturing starts\")\n",
    "\n",
    "# # Outer loop: iterating over trials\n",
    "# for k in range(0, 2):  # Adjust the range based on the number of trials\n",
    "#     t = 5 * k + 1\n",
    "#     print(f\"\\n\\n\\nTrial {t}\")\n",
    "    \n",
    "#     # Inner loop with tqdm for progress bar\n",
    "#     for j in tqdm(range(1, 2201)):  # Adjust the range based on the number of windows\n",
    "#         i = 0\n",
    "#         while i < 768 * j:  # Iterate through windows of 768 points each\n",
    "#             data_slice = low.iloc[i:i + 768, k]  # Select 768 data points (window)\n",
    "#             i += 768\n",
    "        \n",
    "#             # Extract signal values from data slice\n",
    "#             signal = data_slice.values\n",
    "            \n",
    "#             # Perform Continuous Wavelet Transform (CWT)\n",
    "#             coef, _ = pywt.cwt(signal, scales, 'morl')  # Use the 'morl' wavelet\n",
    "#             W = np.abs(coef)  # Take absolute value of coefficients\n",
    "            \n",
    "#             # Flatten the coefficients matrix to create a feature vector\n",
    "#             flat_coefs = W.flatten()\n",
    "            \n",
    "#             # Append data for DataFrame\n",
    "#             setnos.append(count)  # This is an identifier for the window\n",
    "#             labels.append(0)  # Append the label (use 0 or 1 depending on your labeling)\n",
    "#             coef_data.append(flat_coefs)  # Append the flattened coefficients\n",
    "            \n",
    "#             count += 1\n",
    "\n",
    "# print(\"Capturing ends\")\n",
    "\n",
    "# # Create a DataFrame with the coefficients and metadata (set number, label)\n",
    "# df = pd.DataFrame({\n",
    "#     'setno': setnos,\n",
    "#     'label': labels\n",
    "# })\n",
    "\n",
    "# # Add each coefficient as a separate column in the DataFrame\n",
    "# coef_df = pd.DataFrame(coef_data)\n",
    "\n",
    "# # Combine metadata and coefficient DataFrame\n",
    "# final_df = pd.concat([df, coef_df], axis=1)\n",
    "\n",
    "# # Save the DataFrame to a CSV file for future use (optional)\n",
    "# final_df.to_csv('cwt_coefficients_with_labels.csv', index=False)\n",
    "\n",
    "# print(\"Data saved to 'cwt_coefficients_with_labels.csv'\")\n"
   ]
  },
  {
   "cell_type": "markdown",
   "id": "26f7d62b",
   "metadata": {
    "papermill": {
     "duration": 0.014655,
     "end_time": "2024-10-10T07:32:08.264019",
     "exception": false,
     "start_time": "2024-10-10T07:32:08.249364",
     "status": "completed"
    },
    "tags": []
   },
   "source": [
    "# Working on HIGH MWL data"
   ]
  },
  {
   "cell_type": "code",
   "execution_count": 31,
   "id": "6b44d35d",
   "metadata": {
    "execution": {
     "iopub.execute_input": "2024-10-10T07:32:08.294924Z",
     "iopub.status.busy": "2024-10-10T07:32:08.294571Z",
     "iopub.status.idle": "2024-10-10T07:32:08.329951Z",
     "shell.execute_reply": "2024-10-10T07:32:08.328980Z"
    },
    "papermill": {
     "duration": 0.053458,
     "end_time": "2024-10-10T07:32:08.332265",
     "exception": false,
     "start_time": "2024-10-10T07:32:08.278807",
     "status": "completed"
    },
    "tags": []
   },
   "outputs": [
    {
     "data": {
      "text/html": [
       "<div>\n",
       "<style scoped>\n",
       "    .dataframe tbody tr th:only-of-type {\n",
       "        vertical-align: middle;\n",
       "    }\n",
       "\n",
       "    .dataframe tbody tr th {\n",
       "        vertical-align: top;\n",
       "    }\n",
       "\n",
       "    .dataframe thead th {\n",
       "        text-align: right;\n",
       "    }\n",
       "</style>\n",
       "<table border=\"1\" class=\"dataframe\">\n",
       "  <thead>\n",
       "    <tr style=\"text-align: right;\">\n",
       "      <th></th>\n",
       "      <th>0</th>\n",
       "      <th>1</th>\n",
       "      <th>Label</th>\n",
       "    </tr>\n",
       "  </thead>\n",
       "  <tbody>\n",
       "    <tr>\n",
       "      <th>0</th>\n",
       "      <td>-0.207293</td>\n",
       "      <td>0.166256</td>\n",
       "      <td>1</td>\n",
       "    </tr>\n",
       "    <tr>\n",
       "      <th>1</th>\n",
       "      <td>-0.207293</td>\n",
       "      <td>0.166256</td>\n",
       "      <td>1</td>\n",
       "    </tr>\n",
       "    <tr>\n",
       "      <th>2</th>\n",
       "      <td>-0.207293</td>\n",
       "      <td>0.166549</td>\n",
       "      <td>1</td>\n",
       "    </tr>\n",
       "    <tr>\n",
       "      <th>3</th>\n",
       "      <td>-0.207293</td>\n",
       "      <td>0.166841</td>\n",
       "      <td>1</td>\n",
       "    </tr>\n",
       "    <tr>\n",
       "      <th>4</th>\n",
       "      <td>-0.207293</td>\n",
       "      <td>0.167133</td>\n",
       "      <td>1</td>\n",
       "    </tr>\n",
       "    <tr>\n",
       "      <th>...</th>\n",
       "      <td>...</td>\n",
       "      <td>...</td>\n",
       "      <td>...</td>\n",
       "    </tr>\n",
       "    <tr>\n",
       "      <th>844795</th>\n",
       "      <td>-0.287409</td>\n",
       "      <td>-0.312327</td>\n",
       "      <td>1</td>\n",
       "    </tr>\n",
       "    <tr>\n",
       "      <th>844796</th>\n",
       "      <td>-0.287409</td>\n",
       "      <td>-0.312327</td>\n",
       "      <td>1</td>\n",
       "    </tr>\n",
       "    <tr>\n",
       "      <th>844797</th>\n",
       "      <td>-0.287135</td>\n",
       "      <td>-0.312327</td>\n",
       "      <td>1</td>\n",
       "    </tr>\n",
       "    <tr>\n",
       "      <th>844798</th>\n",
       "      <td>-0.287409</td>\n",
       "      <td>-0.312327</td>\n",
       "      <td>1</td>\n",
       "    </tr>\n",
       "    <tr>\n",
       "      <th>844799</th>\n",
       "      <td>-0.287409</td>\n",
       "      <td>-0.312327</td>\n",
       "      <td>1</td>\n",
       "    </tr>\n",
       "  </tbody>\n",
       "</table>\n",
       "<p>844800 rows × 3 columns</p>\n",
       "</div>"
      ],
      "text/plain": [
       "               0         1  Label\n",
       "0      -0.207293  0.166256      1\n",
       "1      -0.207293  0.166256      1\n",
       "2      -0.207293  0.166549      1\n",
       "3      -0.207293  0.166841      1\n",
       "4      -0.207293  0.167133      1\n",
       "...          ...       ...    ...\n",
       "844795 -0.287409 -0.312327      1\n",
       "844796 -0.287409 -0.312327      1\n",
       "844797 -0.287135 -0.312327      1\n",
       "844798 -0.287409 -0.312327      1\n",
       "844799 -0.287409 -0.312327      1\n",
       "\n",
       "[844800 rows x 3 columns]"
      ]
     },
     "metadata": {},
     "output_type": "display_data"
    }
   ],
   "source": [
    "# preprocessing the data\n",
    "\n",
    "from sklearn.preprocessing import StandardScaler\n",
    "sc_Y = StandardScaler()\n",
    "Y = sc_Y.fit_transform(high_data)\n",
    "\n",
    "high =pd.DataFrame(Y)\n",
    "high['Label']=1\n",
    "display(high)\n"
   ]
  },
  {
   "cell_type": "markdown",
   "id": "0a95c900",
   "metadata": {
    "papermill": {
     "duration": 0.015003,
     "end_time": "2024-10-10T07:32:08.362815",
     "exception": false,
     "start_time": "2024-10-10T07:32:08.347812",
     "status": "completed"
    },
    "tags": []
   },
   "source": [
    "# Downsampling High MWL Data "
   ]
  },
  {
   "cell_type": "code",
   "execution_count": 32,
   "id": "57277986",
   "metadata": {
    "execution": {
     "iopub.execute_input": "2024-10-10T07:32:08.395680Z",
     "iopub.status.busy": "2024-10-10T07:32:08.395290Z",
     "iopub.status.idle": "2024-10-10T07:32:08.410689Z",
     "shell.execute_reply": "2024-10-10T07:32:08.409658Z"
    },
    "papermill": {
     "duration": 0.033773,
     "end_time": "2024-10-10T07:32:08.412826",
     "exception": false,
     "start_time": "2024-10-10T07:32:08.379053",
     "status": "completed"
    },
    "tags": []
   },
   "outputs": [
    {
     "name": "stdout",
     "output_type": "stream",
     "text": [
      "Original number of data points: 844800\n",
      "Downsampled number of data points: 33792\n"
     ]
    },
    {
     "data": {
      "text/html": [
       "<div>\n",
       "<style scoped>\n",
       "    .dataframe tbody tr th:only-of-type {\n",
       "        vertical-align: middle;\n",
       "    }\n",
       "\n",
       "    .dataframe tbody tr th {\n",
       "        vertical-align: top;\n",
       "    }\n",
       "\n",
       "    .dataframe thead th {\n",
       "        text-align: right;\n",
       "    }\n",
       "</style>\n",
       "<table border=\"1\" class=\"dataframe\">\n",
       "  <thead>\n",
       "    <tr style=\"text-align: right;\">\n",
       "      <th></th>\n",
       "      <th>0</th>\n",
       "      <th>1</th>\n",
       "      <th>Label</th>\n",
       "    </tr>\n",
       "  </thead>\n",
       "  <tbody>\n",
       "    <tr>\n",
       "      <th>0</th>\n",
       "      <td>-0.207293</td>\n",
       "      <td>0.166256</td>\n",
       "      <td>1</td>\n",
       "    </tr>\n",
       "    <tr>\n",
       "      <th>1</th>\n",
       "      <td>-0.207568</td>\n",
       "      <td>0.171516</td>\n",
       "      <td>1</td>\n",
       "    </tr>\n",
       "    <tr>\n",
       "      <th>2</th>\n",
       "      <td>-0.207842</td>\n",
       "      <td>0.176775</td>\n",
       "      <td>1</td>\n",
       "    </tr>\n",
       "    <tr>\n",
       "      <th>3</th>\n",
       "      <td>-0.207568</td>\n",
       "      <td>0.182910</td>\n",
       "      <td>1</td>\n",
       "    </tr>\n",
       "    <tr>\n",
       "      <th>4</th>\n",
       "      <td>-0.208116</td>\n",
       "      <td>0.189631</td>\n",
       "      <td>1</td>\n",
       "    </tr>\n",
       "    <tr>\n",
       "      <th>...</th>\n",
       "      <td>...</td>\n",
       "      <td>...</td>\n",
       "      <td>...</td>\n",
       "    </tr>\n",
       "    <tr>\n",
       "      <th>33787</th>\n",
       "      <td>-0.286586</td>\n",
       "      <td>-0.312035</td>\n",
       "      <td>1</td>\n",
       "    </tr>\n",
       "    <tr>\n",
       "      <th>33788</th>\n",
       "      <td>-0.286860</td>\n",
       "      <td>-0.312327</td>\n",
       "      <td>1</td>\n",
       "    </tr>\n",
       "    <tr>\n",
       "      <th>33789</th>\n",
       "      <td>-0.286860</td>\n",
       "      <td>-0.312327</td>\n",
       "      <td>1</td>\n",
       "    </tr>\n",
       "    <tr>\n",
       "      <th>33790</th>\n",
       "      <td>-0.286586</td>\n",
       "      <td>-0.312327</td>\n",
       "      <td>1</td>\n",
       "    </tr>\n",
       "    <tr>\n",
       "      <th>33791</th>\n",
       "      <td>-0.287135</td>\n",
       "      <td>-0.312620</td>\n",
       "      <td>1</td>\n",
       "    </tr>\n",
       "  </tbody>\n",
       "</table>\n",
       "<p>33792 rows × 3 columns</p>\n",
       "</div>"
      ],
      "text/plain": [
       "              0         1  Label\n",
       "0     -0.207293  0.166256      1\n",
       "1     -0.207568  0.171516      1\n",
       "2     -0.207842  0.176775      1\n",
       "3     -0.207568  0.182910      1\n",
       "4     -0.208116  0.189631      1\n",
       "...         ...       ...    ...\n",
       "33787 -0.286586 -0.312035      1\n",
       "33788 -0.286860 -0.312327      1\n",
       "33789 -0.286860 -0.312327      1\n",
       "33790 -0.286586 -0.312327      1\n",
       "33791 -0.287135 -0.312620      1\n",
       "\n",
       "[33792 rows x 3 columns]"
      ]
     },
     "metadata": {},
     "output_type": "display_data"
    }
   ],
   "source": [
    "original_sampling_rate = 256\n",
    "\n",
    "target_sampling_rate = 10\n",
    "\n",
    "# calculate the downsampling factor\n",
    "\n",
    "downsampling_factor = original_sampling_rate // target_sampling_rate\n",
    "\n",
    "# downsample the dataframe by selecting every 13th data point \n",
    "\n",
    "downsampled_high_data = high.iloc[::downsampling_factor,:].reset_index(drop=True)\n",
    "\n",
    "# print the shape to check the reduced number of data points\n",
    "print(\"Original number of data points:\" , len(low))\n",
    "print(\"Downsampled number of data points:\" , len(downsampled_high_data))\n",
    "display(downsampled_high_data)"
   ]
  },
  {
   "cell_type": "markdown",
   "id": "b2fd8a34",
   "metadata": {
    "papermill": {
     "duration": 0.015263,
     "end_time": "2024-10-10T07:32:08.443703",
     "exception": false,
     "start_time": "2024-10-10T07:32:08.428440",
     "status": "completed"
    },
    "tags": []
   },
   "source": [
    "# Extracting features using CWT processed data [NOT USING THIS METHOD]"
   ]
  },
  {
   "cell_type": "code",
   "execution_count": 33,
   "id": "a0dddac4",
   "metadata": {
    "execution": {
     "iopub.execute_input": "2024-10-10T07:32:08.476114Z",
     "iopub.status.busy": "2024-10-10T07:32:08.475722Z",
     "iopub.status.idle": "2024-10-10T07:32:08.480627Z",
     "shell.execute_reply": "2024-10-10T07:32:08.479711Z"
    },
    "papermill": {
     "duration": 0.023588,
     "end_time": "2024-10-10T07:32:08.482561",
     "exception": false,
     "start_time": "2024-10-10T07:32:08.458973",
     "status": "completed"
    },
    "tags": []
   },
   "outputs": [],
   "source": [
    "# # initialize lists to hold the data\n",
    "\n",
    "# setnos, labels , coef_data = [] , [] , []\n",
    "\n",
    "# # define scales for CWT\n",
    "# scales = np.arange(1,129) # adjust scales based on signal\n",
    "\n",
    "# count=1\n",
    "# print(\"Capturing starts\")\n",
    "\n",
    "# # outer loop: iterating over trials\n",
    "# for k in range(0,2): # adjust the range based on the number of trials\n",
    "#     t = 5*k +1\n",
    "#     print(f\"\\n\\n\\nTrial {t}\")\n",
    "    \n",
    "#     # inner loop with tqdm for progress bar\n",
    "#     for j in tqdm(range(1,2201)): # adjust the range based on number of windows\n",
    "#         i = 0 \n",
    "#         while i<768*j: # iterate through windows of 768 points each \n",
    "#             data_slice = low.iloc[i:i +768 , k] # select 768 data points (window)\n",
    "#             i+=768\n",
    "            \n",
    "#             # extract signal values from data slice\n",
    "#             signal = data_slice.values\n",
    "            \n",
    "#             # perform continuous wavelet rt\n",
    "    "
   ]
  },
  {
   "cell_type": "markdown",
   "id": "b15d6766",
   "metadata": {
    "papermill": {
     "duration": 0.015145,
     "end_time": "2024-10-10T07:32:08.513114",
     "exception": false,
     "start_time": "2024-10-10T07:32:08.497969",
     "status": "completed"
    },
    "tags": []
   },
   "source": [
    "# Perform Continous Wavelet transform & extract coefficients on LOW MWL data"
   ]
  },
  {
   "cell_type": "code",
   "execution_count": 34,
   "id": "8d04a3f6",
   "metadata": {
    "execution": {
     "iopub.execute_input": "2024-10-10T07:32:08.545943Z",
     "iopub.status.busy": "2024-10-10T07:32:08.545082Z",
     "iopub.status.idle": "2024-10-10T07:32:12.683328Z",
     "shell.execute_reply": "2024-10-10T07:32:12.682405Z"
    },
    "papermill": {
     "duration": 4.157034,
     "end_time": "2024-10-10T07:32:12.685355",
     "exception": false,
     "start_time": "2024-10-10T07:32:08.528321",
     "status": "completed"
    },
    "tags": []
   },
   "outputs": [
    {
     "name": "stdout",
     "output_type": "stream",
     "text": [
      "Coefficients Shape (LOW): (270, 33792)\n"
     ]
    },
    {
     "data": {
      "text/html": [
       "<div>\n",
       "<style scoped>\n",
       "    .dataframe tbody tr th:only-of-type {\n",
       "        vertical-align: middle;\n",
       "    }\n",
       "\n",
       "    .dataframe tbody tr th {\n",
       "        vertical-align: top;\n",
       "    }\n",
       "\n",
       "    .dataframe thead th {\n",
       "        text-align: right;\n",
       "    }\n",
       "</style>\n",
       "<table border=\"1\" class=\"dataframe\">\n",
       "  <thead>\n",
       "    <tr style=\"text-align: right;\">\n",
       "      <th></th>\n",
       "      <th>Mean Coefficient</th>\n",
       "      <th>Variance Coefficient</th>\n",
       "      <th>Max Coefficient</th>\n",
       "      <th>Kurtosis Coefficient</th>\n",
       "      <th>Label</th>\n",
       "    </tr>\n",
       "  </thead>\n",
       "  <tbody>\n",
       "    <tr>\n",
       "      <th>0</th>\n",
       "      <td>-6.114485e-07</td>\n",
       "      <td>0.000022</td>\n",
       "      <td>0.456197</td>\n",
       "      <td>7157.789368</td>\n",
       "      <td>0</td>\n",
       "    </tr>\n",
       "    <tr>\n",
       "      <th>1</th>\n",
       "      <td>3.174704e-07</td>\n",
       "      <td>0.000096</td>\n",
       "      <td>0.654078</td>\n",
       "      <td>3099.258318</td>\n",
       "      <td>0</td>\n",
       "    </tr>\n",
       "    <tr>\n",
       "      <th>2</th>\n",
       "      <td>9.005149e-07</td>\n",
       "      <td>0.000246</td>\n",
       "      <td>1.268125</td>\n",
       "      <td>3920.722155</td>\n",
       "      <td>0</td>\n",
       "    </tr>\n",
       "    <tr>\n",
       "      <th>3</th>\n",
       "      <td>1.647109e-06</td>\n",
       "      <td>0.000436</td>\n",
       "      <td>1.395364</td>\n",
       "      <td>2216.053090</td>\n",
       "      <td>0</td>\n",
       "    </tr>\n",
       "    <tr>\n",
       "      <th>4</th>\n",
       "      <td>2.519901e-06</td>\n",
       "      <td>0.000680</td>\n",
       "      <td>1.480438</td>\n",
       "      <td>1744.631742</td>\n",
       "      <td>0</td>\n",
       "    </tr>\n",
       "    <tr>\n",
       "      <th>...</th>\n",
       "      <td>...</td>\n",
       "      <td>...</td>\n",
       "      <td>...</td>\n",
       "      <td>...</td>\n",
       "      <td>...</td>\n",
       "    </tr>\n",
       "    <tr>\n",
       "      <th>265</th>\n",
       "      <td>8.855687e-04</td>\n",
       "      <td>1.825765</td>\n",
       "      <td>11.981698</td>\n",
       "      <td>30.603536</td>\n",
       "      <td>0</td>\n",
       "    </tr>\n",
       "    <tr>\n",
       "      <th>266</th>\n",
       "      <td>8.940636e-04</td>\n",
       "      <td>1.842397</td>\n",
       "      <td>12.006260</td>\n",
       "      <td>30.492575</td>\n",
       "      <td>0</td>\n",
       "    </tr>\n",
       "    <tr>\n",
       "      <th>267</th>\n",
       "      <td>9.014656e-04</td>\n",
       "      <td>1.858508</td>\n",
       "      <td>12.052184</td>\n",
       "      <td>30.392840</td>\n",
       "      <td>0</td>\n",
       "    </tr>\n",
       "    <tr>\n",
       "      <th>268</th>\n",
       "      <td>9.099446e-04</td>\n",
       "      <td>1.875578</td>\n",
       "      <td>12.081694</td>\n",
       "      <td>30.246533</td>\n",
       "      <td>0</td>\n",
       "    </tr>\n",
       "    <tr>\n",
       "      <th>269</th>\n",
       "      <td>9.187731e-04</td>\n",
       "      <td>1.892860</td>\n",
       "      <td>12.110305</td>\n",
       "      <td>30.129325</td>\n",
       "      <td>0</td>\n",
       "    </tr>\n",
       "  </tbody>\n",
       "</table>\n",
       "<p>270 rows × 5 columns</p>\n",
       "</div>"
      ],
      "text/plain": [
       "     Mean Coefficient  Variance Coefficient  Max Coefficient  \\\n",
       "0       -6.114485e-07              0.000022         0.456197   \n",
       "1        3.174704e-07              0.000096         0.654078   \n",
       "2        9.005149e-07              0.000246         1.268125   \n",
       "3        1.647109e-06              0.000436         1.395364   \n",
       "4        2.519901e-06              0.000680         1.480438   \n",
       "..                ...                   ...              ...   \n",
       "265      8.855687e-04              1.825765        11.981698   \n",
       "266      8.940636e-04              1.842397        12.006260   \n",
       "267      9.014656e-04              1.858508        12.052184   \n",
       "268      9.099446e-04              1.875578        12.081694   \n",
       "269      9.187731e-04              1.892860        12.110305   \n",
       "\n",
       "     Kurtosis Coefficient  Label  \n",
       "0             7157.789368      0  \n",
       "1             3099.258318      0  \n",
       "2             3920.722155      0  \n",
       "3             2216.053090      0  \n",
       "4             1744.631742      0  \n",
       "..                    ...    ...  \n",
       "265             30.603536      0  \n",
       "266             30.492575      0  \n",
       "267             30.392840      0  \n",
       "268             30.246533      0  \n",
       "269             30.129325      0  \n",
       "\n",
       "[270 rows x 5 columns]"
      ]
     },
     "metadata": {},
     "output_type": "display_data"
    }
   ],
   "source": [
    "import pandas as pd\n",
    "import pywt\n",
    "import numpy as np\n",
    "import matplotlib.pyplot as plt\n",
    "import scipy.stats as stats\n",
    "\n",
    "# dataframe contains GSR details in columns 0 & 1\n",
    "# I used column 1\n",
    "\n",
    "signal= downsampled_low_data.iloc[:,1].values # using column 1 (2nd trial in df)\n",
    "\n",
    "# set scales for wavelet transform - can adjust this based on analysis\n",
    "scales = np.arange(1,271 ) # following scale used in : https://www.kaggle.com/code/krishd123/galva-sensing-study-of-gsr-signals/notebook\n",
    "\n",
    "#  perform Continuous Wavelet Transform using 'morl' wavelet - Morlet is common for time-frequency analysis\n",
    "\n",
    "coefficients_low , frequencies_low = pywt.cwt(signal , scales, 'morl')\n",
    "\n",
    "# coefficients is a 2D array where rows are scales and columns are time points\n",
    "# now can extract features from these coefficients\n",
    "\n",
    "# display the shape of coefficients\n",
    "print(\"Coefficients Shape (LOW):\" , coefficients_low.shape)\n",
    "\n",
    "# average of the coefficients across scales or time to use as features\n",
    "mean_coefficients_low = np.mean(coefficients_low , axis=1)  # mean across time for each scale\n",
    "variance_coefficients_low = np.var(coefficients_low , axis=1) # variance across time\n",
    "max_coefficients_low = np.max(coefficients_low , axis=1) # max value across time\n",
    "kurtosis_coefficients_low  = stats.kurtosis(coefficients_low , axis=1) # kurtosis across time\n",
    "\n",
    "\n",
    "features_df_low = pd.DataFrame({\n",
    "    'Mean Coefficient': mean_coefficients_low,\n",
    "    'Variance Coefficient': variance_coefficients_low,\n",
    "    'Max Coefficient': max_coefficients_low,\n",
    "    'Kurtosis Coefficient': kurtosis_coefficients_low  \n",
    "})\n",
    "\n",
    "\n",
    "# add labels from original low_downsampled df\n",
    "features_df_low['Label'] = downsampled_low_data['Label'].iloc[0]\n",
    "\n",
    "# display the extracted features df for low\n",
    "display(features_df_low)"
   ]
  },
  {
   "cell_type": "code",
   "execution_count": 35,
   "id": "b87178b1",
   "metadata": {
    "execution": {
     "iopub.execute_input": "2024-10-10T07:32:12.719075Z",
     "iopub.status.busy": "2024-10-10T07:32:12.718684Z",
     "iopub.status.idle": "2024-10-10T07:32:13.932835Z",
     "shell.execute_reply": "2024-10-10T07:32:13.931645Z"
    },
    "papermill": {
     "duration": 1.234656,
     "end_time": "2024-10-10T07:32:13.935937",
     "exception": false,
     "start_time": "2024-10-10T07:32:12.701281",
     "status": "completed"
    },
    "tags": []
   },
   "outputs": [
    {
     "data": {
      "image/png": "[encoded data removed]",
      "text/plain": [
       "<Figure size 640x480 with 2 Axes>"
      ]
     },
     "metadata": {},
     "output_type": "display_data"
    }
   ],
   "source": [
    "# Optionally, plot the scalogram (wavelet coefficients)\n",
    "plt.imshow(np.abs(coefficients_low), aspect='auto', extent=[0, len(signal), scales[-1], scales[0]], cmap='jet')\n",
    "plt.colorbar(label='Magnitude of Coefficients - LOW')\n",
    "plt.xlabel('Time')\n",
    "plt.ylabel('Scale')\n",
    "plt.title('Wavelet Scalogram')\n",
    "plt.show()\n"
   ]
  },
  {
   "cell_type": "markdown",
   "id": "40645ad0",
   "metadata": {
    "papermill": {
     "duration": 0.023835,
     "end_time": "2024-10-10T07:32:13.979950",
     "exception": false,
     "start_time": "2024-10-10T07:32:13.956115",
     "status": "completed"
    },
    "tags": []
   },
   "source": [
    "# To use all coefficients and frequencies obtained from CWT as features to train model\n",
    "\n",
    "# Combined Data - LOW & HIGH"
   ]
  },
  {
   "cell_type": "code",
   "execution_count": 36,
   "id": "2078d6aa",
   "metadata": {
    "execution": {
     "iopub.execute_input": "2024-10-10T07:32:14.016003Z",
     "iopub.status.busy": "2024-10-10T07:32:14.015144Z",
     "iopub.status.idle": "2024-10-10T07:32:14.028791Z",
     "shell.execute_reply": "2024-10-10T07:32:14.027715Z"
    },
    "papermill": {
     "duration": 0.034267,
     "end_time": "2024-10-10T07:32:14.031262",
     "exception": false,
     "start_time": "2024-10-10T07:32:13.996995",
     "status": "completed"
    },
    "tags": []
   },
   "outputs": [
    {
     "data": {
      "text/html": [
       "<div>\n",
       "<style scoped>\n",
       "    .dataframe tbody tr th:only-of-type {\n",
       "        vertical-align: middle;\n",
       "    }\n",
       "\n",
       "    .dataframe tbody tr th {\n",
       "        vertical-align: top;\n",
       "    }\n",
       "\n",
       "    .dataframe thead th {\n",
       "        text-align: right;\n",
       "    }\n",
       "</style>\n",
       "<table border=\"1\" class=\"dataframe\">\n",
       "  <thead>\n",
       "    <tr style=\"text-align: right;\">\n",
       "      <th></th>\n",
       "      <th>0</th>\n",
       "      <th>1</th>\n",
       "      <th>Label</th>\n",
       "    </tr>\n",
       "  </thead>\n",
       "  <tbody>\n",
       "    <tr>\n",
       "      <th>0</th>\n",
       "      <td>-0.579450</td>\n",
       "      <td>0.491228</td>\n",
       "      <td>0</td>\n",
       "    </tr>\n",
       "    <tr>\n",
       "      <th>1</th>\n",
       "      <td>-0.579166</td>\n",
       "      <td>0.487778</td>\n",
       "      <td>0</td>\n",
       "    </tr>\n",
       "    <tr>\n",
       "      <th>2</th>\n",
       "      <td>-0.579166</td>\n",
       "      <td>0.482603</td>\n",
       "      <td>0</td>\n",
       "    </tr>\n",
       "    <tr>\n",
       "      <th>3</th>\n",
       "      <td>-0.579166</td>\n",
       "      <td>0.477428</td>\n",
       "      <td>0</td>\n",
       "    </tr>\n",
       "    <tr>\n",
       "      <th>4</th>\n",
       "      <td>-0.579166</td>\n",
       "      <td>0.471966</td>\n",
       "      <td>0</td>\n",
       "    </tr>\n",
       "    <tr>\n",
       "      <th>...</th>\n",
       "      <td>...</td>\n",
       "      <td>...</td>\n",
       "      <td>...</td>\n",
       "    </tr>\n",
       "    <tr>\n",
       "      <th>67579</th>\n",
       "      <td>-0.286586</td>\n",
       "      <td>-0.312035</td>\n",
       "      <td>1</td>\n",
       "    </tr>\n",
       "    <tr>\n",
       "      <th>67580</th>\n",
       "      <td>-0.286860</td>\n",
       "      <td>-0.312327</td>\n",
       "      <td>1</td>\n",
       "    </tr>\n",
       "    <tr>\n",
       "      <th>67581</th>\n",
       "      <td>-0.286860</td>\n",
       "      <td>-0.312327</td>\n",
       "      <td>1</td>\n",
       "    </tr>\n",
       "    <tr>\n",
       "      <th>67582</th>\n",
       "      <td>-0.286586</td>\n",
       "      <td>-0.312327</td>\n",
       "      <td>1</td>\n",
       "    </tr>\n",
       "    <tr>\n",
       "      <th>67583</th>\n",
       "      <td>-0.287135</td>\n",
       "      <td>-0.312620</td>\n",
       "      <td>1</td>\n",
       "    </tr>\n",
       "  </tbody>\n",
       "</table>\n",
       "<p>67584 rows × 3 columns</p>\n",
       "</div>"
      ],
      "text/plain": [
       "              0         1  Label\n",
       "0     -0.579450  0.491228      0\n",
       "1     -0.579166  0.487778      0\n",
       "2     -0.579166  0.482603      0\n",
       "3     -0.579166  0.477428      0\n",
       "4     -0.579166  0.471966      0\n",
       "...         ...       ...    ...\n",
       "67579 -0.286586 -0.312035      1\n",
       "67580 -0.286860 -0.312327      1\n",
       "67581 -0.286860 -0.312327      1\n",
       "67582 -0.286586 -0.312327      1\n",
       "67583 -0.287135 -0.312620      1\n",
       "\n",
       "[67584 rows x 3 columns]"
      ]
     },
     "metadata": {},
     "output_type": "display_data"
    }
   ],
   "source": [
    "# combine low and high data\n",
    "# combined_data = downsampled_low_data +downsampled_high_data\n",
    "combined_data = pd.concat([downsampled_low_data ,downsampled_high_data],ignore_index=True )\n",
    "\n",
    "display(combined_data)"
   ]
  },
  {
   "cell_type": "code",
   "execution_count": 37,
   "id": "4a0ebc85",
   "metadata": {
    "execution": {
     "iopub.execute_input": "2024-10-10T07:32:14.072180Z",
     "iopub.status.busy": "2024-10-10T07:32:14.071074Z",
     "iopub.status.idle": "2024-10-10T07:48:08.752486Z",
     "shell.execute_reply": "2024-10-10T07:48:08.751484Z"
    },
    "papermill": {
     "duration": 954.719862,
     "end_time": "2024-10-10T07:48:08.772696",
     "exception": false,
     "start_time": "2024-10-10T07:32:14.052834",
     "status": "completed"
    },
    "tags": []
   },
   "outputs": [
    {
     "name": "stdout",
     "output_type": "stream",
     "text": [
      "Model Accuracy: 98.05%\n",
      "Confusion Matrix:\n",
      "[[6540  132]\n",
      " [ 131 6714]]\n",
      "\n",
      "Classification Report:\n",
      "              precision    recall  f1-score   support\n",
      "\n",
      "         0.0       0.98      0.98      0.98      6672\n",
      "         1.0       0.98      0.98      0.98      6845\n",
      "\n",
      "    accuracy                           0.98     13517\n",
      "   macro avg       0.98      0.98      0.98     13517\n",
      "weighted avg       0.98      0.98      0.98     13517\n",
      "\n"
     ]
    }
   ],
   "source": [
    "import pandas as pd\n",
    "import pywt\n",
    "import numpy as np\n",
    "from sklearn.model_selection import train_test_split\n",
    "from sklearn.ensemble import RandomForestClassifier  # Example ML model\n",
    "from sklearn.metrics import accuracy_score\n",
    "\n",
    "from sklearn.metrics import accuracy_score, confusion_matrix, classification_report  # Import confusion matrix\n",
    "\n",
    "\n",
    "\n",
    "# Assuming 'low' is the DataFrame containing the GSR signal and labels\n",
    "\n",
    "# Function to extract wavelet coefficients and flatten them\n",
    "def extract_wavelet_features(signal, scales, wavelet='morl'):\n",
    "    # Perform Continuous Wavelet Transform\n",
    "    coefficients, frequencies = pywt.cwt(signal, scales, wavelet)\n",
    "    \n",
    "    # Flatten the coefficients matrix (num_scales x num_time_points) into a 1D array\n",
    "    flat_coefficients = coefficients.flatten()\n",
    "    \n",
    "    return flat_coefficients\n",
    "\n",
    "# Set the scales for wavelet transform\n",
    "# scales = np.arange(1, 128)\n",
    "scales = np.arange(1, 271)\n",
    "\n",
    "# Prepare the feature matrix and labels\n",
    "features = []\n",
    "labels = []\n",
    "\n",
    "# Iterate over each row in the dataset to extract features\n",
    "for index, row in combined_data.iterrows():\n",
    "    # Extract the signal from the first column (or both columns if necessary)\n",
    "    signal = row[[0, 1]].values  # If you want to use both columns as the signal\n",
    "    label = row['Label']\n",
    "    \n",
    "    \n",
    "    # Extract the flattened wavelet features for the current signal\n",
    "    wavelet_features = extract_wavelet_features(signal, scales)\n",
    "    \n",
    "    # Append the features and label to the respective lists\n",
    "    features.append(wavelet_features)\n",
    "    labels.append(label)\n",
    "\n",
    "# Convert the features and labels into NumPy arrays\n",
    "features = np.array(features)\n",
    "labels = np.array(labels)\n",
    "\n",
    "# Split the data into training and test sets (80% train, 20% test)\n",
    "X_train, X_test, y_train, y_test = train_test_split(features, labels, test_size=0.2, random_state=42)\n",
    "\n",
    "# Train a Random Forest Classifier as an example\n",
    "model = RandomForestClassifier(n_estimators=100, random_state=42)\n",
    "model.fit(X_train, y_train)\n",
    "\n",
    "# Make predictions on the test set\n",
    "y_pred = model.predict(X_test)\n",
    "\n",
    "# Evaluate the accuracy of the model\n",
    "accuracy = accuracy_score(y_test, y_pred)\n",
    "print(f\"Model Accuracy: {accuracy * 100:.2f}%\")\n",
    "\n",
    "# Compute the confusion matrix\n",
    "conf_matrix = confusion_matrix(y_test, y_pred)\n",
    "print(\"Confusion Matrix:\")\n",
    "print(conf_matrix)\n",
    "\n",
    "\n",
    "# Optional: Print a classification report for additional metrics (precision, recall, f1-score)\n",
    "class_report = classification_report(y_test, y_pred)\n",
    "print(\"\\nClassification Report:\")\n",
    "print(class_report)\n"
   ]
  }
 ],
 "metadata": {
  "kaggle": {
   "accelerator": "gpu",
   "dataSources": [
    {
     "datasetId": 4388881,
     "sourceId": 7536723,
     "sourceType": "datasetVersion"
    }
   ],
   "dockerImageVersionId": 30786,
   "isGpuEnabled": true,
   "isInternetEnabled": true,
   "language": "python",
   "sourceType": "notebook"
  },
  "kernelspec": {
   "display_name": "Python 3",
   "language": "python",
   "name": "python3"
  },
  "language_info": {
   "codemirror_mode": {
    "name": "ipython",
    "version": 3
   },
   "file_extension": ".py",
   "mimetype": "text/x-python",
   "name": "python",
   "nbconvert_exporter": "python",
   "pygments_lexer": "ipython3",
   "version": "3.10.14"
  },
  "papermill": {
   "default_parameters": {},
   "duration": 968.201529,
   "end_time": "2024-10-10T07:48:09.310377",
   "environment_variables": {},
   "exception": null,
   "input_path": "__notebook__.ipynb",
   "output_path": "__notebook__.ipynb",
   "parameters": {},
   "start_time": "2024-10-10T07:32:01.108848",
   "version": "2.6.0"
  }
 },
 "nbformat": 4,
 "nbformat_minor": 5
}
