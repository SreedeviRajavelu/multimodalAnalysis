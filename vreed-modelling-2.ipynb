{
 "cells": [
  {
   "cell_type": "markdown",
   "id": "9aa0895f",
   "metadata": {
    "_cell_guid": "b1076dfc-b9ad-4769-8c92-a6c4dae69d19",
    "_uuid": "8f2839f25d086af736a60e9eeb907d3b93b6e0e5",
    "execution": {
     "iopub.execute_input": "2023-07-12T23:25:02.410934Z",
     "iopub.status.busy": "2023-07-12T23:25:02.410496Z"
    },
    "papermill": {
     "duration": 0.003456,
     "end_time": "2024-10-15T06:36:48.337482",
     "exception": false,
     "start_time": "2024-10-15T06:36:48.334026",
     "status": "completed"
    },
    "tags": []
   },
   "source": [
    "# Hyperparameter tuning using Grid Search to select the best C & Gamma for SVM classifier\n",
    "\n",
    "Running this notebook takes too long: https://www.kaggle.com/code/sreedevirajavelu/vreed-modelling-1/edit\n",
    "\n",
    "This notebook uses a very large range of values for C and gamma using np.logspace(), which creates a logarithmic range of values for each parameter.\n",
    "\n",
    "By using: \n",
    "\n",
    "C_range = np.logspace(-2, 10, 100)\n",
    "\n",
    "gamma_range = np.logspace(-9, 3, 100)\n",
    "\n",
    "\n",
    "# Causes of Long Runtime:\n",
    "\n",
    "Creates a logarithmic space of 100 values for each parameter. This results in a grid search space of 10,000 combinations (100 x 100)\n",
    "\n",
    "GridSearchCV is initialized with these parameters and a 10-fold cross validation (cv=10)\n",
    "\n",
    "SVM with an RBF kernel (Radial Basis Function) can be computationally expensive. Each model training involves a solving a quadratic optimization problem, which can be slow.\n",
    "\n",
    "\n",
    "# Solutions to reduce runtime:\n",
    "\n",
    "**1. Reduce Parameter Grid:**\n",
    "\n",
    "Use a coarser grid (eg. 10 values each). Can perform random search or use successive halving to optimize the search process\n",
    "\n",
    "**2. Use fewer cross-validation folds:**\n",
    "\n",
    "Reduce cross-validation folds from 10 to 5\n",
    "\n",
    "\n",
    "**3. Sample the data:**\n",
    "\n",
    "If dataset is large, work with a subset of the data to perform grid search\n",
    "\n",
    "**4. Parallelize Grid Search:\n",
    "**\n",
    "**GridSearchCV** supports parallel processing with the **n_jobs** **parameter**. \n",
    "\n",
    "Setting **n_jobs = -1 ** would utilize all available CPU cores to run multiple cores simultaneously.\n",
    "\n",
    "\n"
   ]
  },
  {
   "cell_type": "code",
   "execution_count": null,
   "id": "0c6639b0",
   "metadata": {
    "jupyter": {
     "source_hidden": true
    },
    "papermill": {
     "duration": 0.002545,
     "end_time": "2024-10-15T06:36:48.343183",
     "exception": false,
     "start_time": "2024-10-15T06:36:48.340638",
     "status": "completed"
    },
    "tags": []
   },
   "outputs": [],
   "source": []
  },
  {
   "cell_type": "code",
   "execution_count": 1,
   "id": "a955d74a",
   "metadata": {
    "execution": {
     "iopub.execute_input": "2024-10-15T06:36:48.350354Z",
     "iopub.status.busy": "2024-10-15T06:36:48.349983Z",
     "iopub.status.idle": "2024-10-15T06:36:49.680698Z",
     "shell.execute_reply": "2024-10-15T06:36:49.679659Z"
    },
    "papermill": {
     "duration": 1.337284,
     "end_time": "2024-10-15T06:36:49.683182",
     "exception": false,
     "start_time": "2024-10-15T06:36:48.345898",
     "status": "completed"
    },
    "tags": []
   },
   "outputs": [
    {
     "name": "stderr",
     "output_type": "stream",
     "text": [
      "/opt/conda/lib/python3.10/site-packages/scipy/__init__.py:146: UserWarning: A NumPy version >=1.16.5 and <1.23.0 is required for this version of SciPy (detected version 1.23.5\n",
      "  warnings.warn(f\"A NumPy version >={np_minversion} and <{np_maxversion}\"\n"
     ]
    }
   ],
   "source": [
    "## This Python 3 environment comes with many helpful analytics libraries installed\n",
    "# It is defined by the kaggle/python Docker image: https://github.com/kaggle/docker-python\n",
    "# For example, here's several helpful packages to load\n",
    "\n",
    "import numpy as np # linear algebra\n",
    "import pandas as pd # data processing, CSV file I/O (e.g. pd.read_csv)\n",
    "from sklearn import svm\n",
    "from sklearn.impute import SimpleImputer\n",
    "from sklearn.model_selection import GridSearchCV\n",
    "from sklearn.model_selection import train_test_split\n",
    "from sklearn.model_selection import cross_val_score\n",
    "from sklearn.svm import SVC\n",
    "\n",
    "#from skl2onnx import convert_sklearn\n",
    "#from skl2onnx.common.data_types import FloatTensorType, StringTensorType\n",
    "\n",
    "# Input data files are available in the read-only \"../input/\" directory\n",
    "# For example, running this (by clicking run or pressing Shift+Enter) will list all files under the input directory\n",
    "\n",
    "# You can write up to 20GB to the current directory (/kaggle/working/) that gets preserved as output when you create a version using \"Save & Run All\" \n",
    "# You can also write temporary files to /kaggle/temp/, but they won't be saved outside of the current session"
   ]
  },
  {
   "cell_type": "markdown",
   "id": "c1835ea1",
   "metadata": {
    "papermill": {
     "duration": 0.002622,
     "end_time": "2024-10-15T06:36:49.689014",
     "exception": false,
     "start_time": "2024-10-15T06:36:49.686392",
     "status": "completed"
    },
    "tags": []
   },
   "source": [
    "# Hyperparameter Tuning using Grid Search\n",
    "\n",
    "To search for the best set of hyperparameters for SVM classifier"
   ]
  },
  {
   "cell_type": "code",
   "execution_count": 2,
   "id": "4a00f827",
   "metadata": {
    "execution": {
     "iopub.execute_input": "2024-10-15T06:36:49.696436Z",
     "iopub.status.busy": "2024-10-15T06:36:49.695598Z",
     "iopub.status.idle": "2024-10-15T06:36:49.734740Z",
     "shell.execute_reply": "2024-10-15T06:36:49.733869Z"
    },
    "papermill": {
     "duration": 0.045354,
     "end_time": "2024-10-15T06:36:49.737147",
     "exception": false,
     "start_time": "2024-10-15T06:36:49.691793",
     "status": "completed"
    },
    "tags": []
   },
   "outputs": [],
   "source": [
    "\n",
    "C_range = np.logspace(-2, 10, 10)\n",
    "gamma_range = np.logspace(-9, 3, 10)\n",
    "param_grid = dict(gamma=gamma_range, C=C_range)\n",
    "        \n",
    "eyedata_file_path = '/kaggle/input/vr-eyes-emotions-dataset-vreed/04 Eye Tracking Data/02 Eye Tracking Data (Features Extracted)/EyeTracking_FeaturesExtracted.csv'\n",
    "eye_data = pd.read_csv(eyedata_file_path) \n",
    "eye_data.columns\n",
    "\n",
    "\n",
    "y = eye_data.Quad_Cat\n",
    "\n",
    "eye_data_features = ['Num_of_Fixations', 'Mean_Fixation_Duration',\n",
    "       'SD_Fixation_Duration', 'Skew_Fixation_Duration',\n",
    "       'Max_Fixation_Duration', 'First_Fixation_Duration', 'Num_of_Saccade',\n",
    "       'Mean_Saccade_Duration', 'SD_Saccade_Duration', 'Skew_Saccade_Duration',\n",
    "       'Max_Saccade_Duration', 'Mean_Saccade_Amplitude',\n",
    "       'SD_Saccade_Amplitude', 'Skew_Saccade_Amplitude',\n",
    "       'Max_Saccade_Amplitude', 'Mean_Saccade_Direction',\n",
    "       'SD_Saccade_Direction', 'Skew_Saccade_Direction',\n",
    "       'Max_Saccade_Direction', 'Mean_Saccade_Length', 'SD_Saccade_Length',\n",
    "       'Skew_Saccade_Length', 'Max_Saccade_Length', 'Num_of_Blink',\n",
    "       'Mean_Blink_Duration', 'SD_Blink_Duration', 'Skew_Blink_Duration',\n",
    "       'Max_Blink_Duration', 'Num_of_Microsac', 'Mean_Microsac_Peak_Vel',\n",
    "       'SD_Microsac_Peak_Vel', 'Skew_Microsac_Peak_Vel',\n",
    "       'Max_Microsac_Peak_Vel', 'Mean_Microsac_Ampl', 'SD_Microsac_Ampl',\n",
    "       'Skew_Microsac_Ampl', 'Max_Microsac_Ampl', 'Mean_Microsac_Dir',\n",
    "       'SD_Microsac_Dir', 'Skew_Microsac_Dir', 'Max_Microsac_Dir',\n",
    "       'Mean_Microsac_H_Amp', 'SD_Microsac_H_Amp', 'Skew_Microsac_H_Amp',\n",
    "       'Max_Microsac_H_Amp', 'Mean_Microsac_V_Amp', 'SD_Microsac_V_Amp',\n",
    "       'Skew_Microsac_V_Amp', 'Max_Microsac_V_Amp']\n",
    "\n",
    "\n"
   ]
  },
  {
   "cell_type": "markdown",
   "id": "788f75df",
   "metadata": {
    "papermill": {
     "duration": 0.00264,
     "end_time": "2024-10-15T06:36:49.742908",
     "exception": false,
     "start_time": "2024-10-15T06:36:49.740268",
     "status": "completed"
    },
    "tags": []
   },
   "source": [
    "# Preprocessing step: Handle missing data\n",
    "\n",
    "SimpleImputer is used to fill missing values in the feature matrix X.\n",
    "\n",
    "Replaces any missing values (NaN) with the mean of the respective column"
   ]
  },
  {
   "cell_type": "code",
   "execution_count": 3,
   "id": "68441a5c",
   "metadata": {
    "execution": {
     "iopub.execute_input": "2024-10-15T06:36:49.750338Z",
     "iopub.status.busy": "2024-10-15T06:36:49.749545Z",
     "iopub.status.idle": "2024-10-15T06:36:49.767141Z",
     "shell.execute_reply": "2024-10-15T06:36:49.766151Z"
    },
    "papermill": {
     "duration": 0.023734,
     "end_time": "2024-10-15T06:36:49.769455",
     "exception": false,
     "start_time": "2024-10-15T06:36:49.745721",
     "status": "completed"
    },
    "tags": []
   },
   "outputs": [],
   "source": [
    "X = eye_data[eye_data_features]\n",
    "\n",
    "imp = SimpleImputer(missing_values=np.nan, strategy='mean')\n",
    "imp.fit(X)\n",
    "X_imp = imp.transform(X)\n"
   ]
  },
  {
   "cell_type": "markdown",
   "id": "a48abb57",
   "metadata": {
    "papermill": {
     "duration": 0.002794,
     "end_time": "2024-10-15T06:36:49.775706",
     "exception": false,
     "start_time": "2024-10-15T06:36:49.772912",
     "status": "completed"
    },
    "tags": []
   },
   "source": [
    "# Perform GridSearchCV with 5 folds of cross validation and find best set of parameters for SVM classifier"
   ]
  },
  {
   "cell_type": "code",
   "execution_count": 4,
   "id": "e8f328a8",
   "metadata": {
    "execution": {
     "iopub.execute_input": "2024-10-15T06:36:49.783332Z",
     "iopub.status.busy": "2024-10-15T06:36:49.782617Z",
     "iopub.status.idle": "2024-10-15T06:39:18.632790Z",
     "shell.execute_reply": "2024-10-15T06:39:18.631805Z"
    },
    "papermill": {
     "duration": 148.860097,
     "end_time": "2024-10-15T06:39:18.638662",
     "exception": false,
     "start_time": "2024-10-15T06:36:49.778565",
     "status": "completed"
    },
    "tags": []
   },
   "outputs": [
    {
     "data": {
      "text/plain": [
       "0.5"
      ]
     },
     "execution_count": 4,
     "metadata": {},
     "output_type": "execute_result"
    }
   ],
   "source": [
    "gs_knn = GridSearchCV(svm.SVC(), param_grid=param_grid, cv=5) # perform GridSearch with 5 fold cross validation\n",
    "\n",
    "X_train, X_test, y_train, y_test = train_test_split(X_imp, y, test_size=0.1, random_state=0)\n",
    "\n",
    "gs_knn.fit(X_train, y_train)\n",
    "gs_knn.best_params_\n",
    "\n",
    "#print(\"Ground Truth: \" + str(eye_data.iloc[5].Quad_Cat))\n",
    "#print(\"Inference: \" + str(test[0]))\n",
    "\n",
    "# find best model score\n",
    "gs_knn.score(X_test, y_test)\n"
   ]
  },
  {
   "cell_type": "code",
   "execution_count": null,
   "id": "541f2a74",
   "metadata": {
    "papermill": {
     "duration": 0.002882,
     "end_time": "2024-10-15T06:39:18.644713",
     "exception": false,
     "start_time": "2024-10-15T06:39:18.641831",
     "status": "completed"
    },
    "tags": []
   },
   "outputs": [],
   "source": []
  },
  {
   "cell_type": "markdown",
   "id": "0a8d718e",
   "metadata": {
    "papermill": {
     "duration": 0.00279,
     "end_time": "2024-10-15T06:39:18.650520",
     "exception": false,
     "start_time": "2024-10-15T06:39:18.647730",
     "status": "completed"
    },
    "tags": []
   },
   "source": []
  }
 ],
 "metadata": {
  "kaggle": {
   "accelerator": "none",
   "dataSources": [
    {
     "datasetId": 1662971,
     "sourceId": 2728156,
     "sourceType": "datasetVersion"
    }
   ],
   "dockerImageVersionId": 30527,
   "isGpuEnabled": false,
   "isInternetEnabled": false,
   "language": "python",
   "sourceType": "notebook"
  },
  "kernelspec": {
   "display_name": "Python 3",
   "language": "python",
   "name": "python3"
  },
  "language_info": {
   "codemirror_mode": {
    "name": "ipython",
    "version": 3
   },
   "file_extension": ".py",
   "mimetype": "text/x-python",
   "name": "python",
   "nbconvert_exporter": "python",
   "pygments_lexer": "ipython3",
   "version": "3.10.12"
  },
  "papermill": {
   "default_parameters": {},
   "duration": 161.051741,
   "end_time": "2024-10-15T06:39:19.576916",
   "environment_variables": {},
   "exception": null,
   "input_path": "__notebook__.ipynb",
   "output_path": "__notebook__.ipynb",
   "parameters": {},
   "start_time": "2024-10-15T06:36:38.525175",
   "version": "2.4.0"
  }
 },
 "nbformat": 4,
 "nbformat_minor": 5
}
