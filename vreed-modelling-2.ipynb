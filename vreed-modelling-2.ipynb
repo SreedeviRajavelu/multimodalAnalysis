{
 "cells": [
  {
   "cell_type": "markdown",
   "id": "5954b716",
   "metadata": {
    "_cell_guid": "b1076dfc-b9ad-4769-8c92-a6c4dae69d19",
    "_uuid": "8f2839f25d086af736a60e9eeb907d3b93b6e0e5",
    "execution": {
     "iopub.execute_input": "2023-07-12T23:25:02.410934Z",
     "iopub.status.busy": "2023-07-12T23:25:02.410496Z"
    },
    "papermill": {
     "duration": 0.00345,
     "end_time": "2024-10-15T08:11:04.112445",
     "exception": false,
     "start_time": "2024-10-15T08:11:04.108995",
     "status": "completed"
    },
    "tags": []
   },
   "source": [
    "# Hyperparameter tuning using Grid Search to select the best C & Gamma for SVM classifier\n",
    "\n",
    "Running this notebook takes too long: https://www.kaggle.com/code/sreedevirajavelu/vreed-modelling-1/edit\n",
    "\n",
    "This notebook uses a very large range of values for C and gamma using np.logspace(), which creates a logarithmic range of values for each parameter.\n",
    "\n",
    "By using: \n",
    "\n",
    "C_range = np.logspace(-2, 10, 100)\n",
    "\n",
    "gamma_range = np.logspace(-9, 3, 100)\n",
    "\n",
    "\n",
    "# Causes of Long Runtime:\n",
    "\n",
    "Creates a logarithmic space of 100 values for each parameter. This results in a grid search space of 10,000 combinations (100 x 100)\n",
    "\n",
    "GridSearchCV is initialized with these parameters and a 10-fold cross validation (cv=10)\n",
    "\n",
    "SVM with an RBF kernel (Radial Basis Function) can be computationally expensive. Each model training involves a solving a quadratic optimization problem, which can be slow.\n",
    "\n",
    "\n",
    "# Solutions to reduce runtime:\n",
    "\n",
    "**1. Reduce Parameter Grid:**\n",
    "\n",
    "Use a coarser grid (eg. 10 values each). Can perform random search or use successive halving to optimize the search process\n",
    "\n",
    "**2. Use fewer cross-validation folds:**\n",
    "\n",
    "Reduce cross-validation folds from 10 to 5\n",
    "\n",
    "\n",
    "**3. Sample the data:**\n",
    "\n",
    "If dataset is large, work with a subset of the data to perform grid search\n",
    "\n",
    "**4. Parallelize Grid Search:\n",
    "**\n",
    "**GridSearchCV** supports parallel processing with the **n_jobs** **parameter**. \n",
    "\n",
    "Setting **n_jobs = -1 ** would utilize all available CPU cores to run multiple cores simultaneously.\n",
    "\n",
    "\n"
   ]
  },
  {
   "cell_type": "code",
   "execution_count": null,
   "id": "91534eaa",
   "metadata": {
    "jupyter": {
     "source_hidden": true
    },
    "papermill": {
     "duration": 0.00248,
     "end_time": "2024-10-15T08:11:04.118009",
     "exception": false,
     "start_time": "2024-10-15T08:11:04.115529",
     "status": "completed"
    },
    "tags": []
   },
   "outputs": [],
   "source": []
  },
  {
   "cell_type": "code",
   "execution_count": 1,
   "id": "2899fd77",
   "metadata": {
    "execution": {
     "iopub.execute_input": "2024-10-15T08:11:04.125018Z",
     "iopub.status.busy": "2024-10-15T08:11:04.124617Z",
     "iopub.status.idle": "2024-10-15T08:11:05.632349Z",
     "shell.execute_reply": "2024-10-15T08:11:05.631265Z"
    },
    "papermill": {
     "duration": 1.51451,
     "end_time": "2024-10-15T08:11:05.635171",
     "exception": false,
     "start_time": "2024-10-15T08:11:04.120661",
     "status": "completed"
    },
    "tags": []
   },
   "outputs": [
    {
     "name": "stderr",
     "output_type": "stream",
     "text": [
      "/opt/conda/lib/python3.10/site-packages/scipy/__init__.py:146: UserWarning: A NumPy version >=1.16.5 and <1.23.0 is required for this version of SciPy (detected version 1.23.5\n",
      "  warnings.warn(f\"A NumPy version >={np_minversion} and <{np_maxversion}\"\n"
     ]
    }
   ],
   "source": [
    "## This Python 3 environment comes with many helpful analytics libraries installed\n",
    "# It is defined by the kaggle/python Docker image: https://github.com/kaggle/docker-python\n",
    "# For example, here's several helpful packages to load\n",
    "\n",
    "import numpy as np # linear algebra\n",
    "import pandas as pd # data processing, CSV file I/O (e.g. pd.read_csv)\n",
    "from sklearn import svm\n",
    "from sklearn.impute import SimpleImputer\n",
    "from sklearn.model_selection import GridSearchCV\n",
    "from sklearn.model_selection import train_test_split\n",
    "from sklearn.model_selection import cross_val_score\n",
    "from sklearn.svm import SVC\n",
    "\n",
    "#from skl2onnx import convert_sklearn\n",
    "#from skl2onnx.common.data_types import FloatTensorType, StringTensorType\n",
    "\n",
    "# Input data files are available in the read-only \"../input/\" directory\n",
    "# For example, running this (by clicking run or pressing Shift+Enter) will list all files under the input directory\n",
    "\n",
    "# You can write up to 20GB to the current directory (/kaggle/working/) that gets preserved as output when you create a version using \"Save & Run All\" \n",
    "# You can also write temporary files to /kaggle/temp/, but they won't be saved outside of the current session"
   ]
  },
  {
   "cell_type": "markdown",
   "id": "28c3fefc",
   "metadata": {
    "papermill": {
     "duration": 0.002754,
     "end_time": "2024-10-15T08:11:05.641028",
     "exception": false,
     "start_time": "2024-10-15T08:11:05.638274",
     "status": "completed"
    },
    "tags": []
   },
   "source": [
    "# Hyperparameter Tuning using Grid Search\n",
    "\n",
    "To search for the best set of hyperparameters for SVM classifier"
   ]
  },
  {
   "cell_type": "code",
   "execution_count": 2,
   "id": "cd7fee9e",
   "metadata": {
    "execution": {
     "iopub.execute_input": "2024-10-15T08:11:05.648277Z",
     "iopub.status.busy": "2024-10-15T08:11:05.647895Z",
     "iopub.status.idle": "2024-10-15T08:11:05.688635Z",
     "shell.execute_reply": "2024-10-15T08:11:05.687494Z"
    },
    "papermill": {
     "duration": 0.047527,
     "end_time": "2024-10-15T08:11:05.691345",
     "exception": false,
     "start_time": "2024-10-15T08:11:05.643818",
     "status": "completed"
    },
    "tags": []
   },
   "outputs": [],
   "source": [
    "\n",
    "C_range = np.logspace(-2, 10, 10)\n",
    "gamma_range = np.logspace(-9, 3, 10)\n",
    "param_grid = dict(gamma=gamma_range, C=C_range)\n",
    "        \n",
    "eyedata_file_path = '/kaggle/input/vr-eyes-emotions-dataset-vreed/04 Eye Tracking Data/02 Eye Tracking Data (Features Extracted)/EyeTracking_FeaturesExtracted.csv'\n",
    "eye_data = pd.read_csv(eyedata_file_path) \n",
    "eye_data.columns\n",
    "\n",
    "\n",
    "y = eye_data.Quad_Cat\n",
    "\n",
    "eye_data_features = ['Num_of_Fixations', 'Mean_Fixation_Duration',\n",
    "       'SD_Fixation_Duration', 'Skew_Fixation_Duration',\n",
    "       'Max_Fixation_Duration', 'First_Fixation_Duration', 'Num_of_Saccade',\n",
    "       'Mean_Saccade_Duration', 'SD_Saccade_Duration', 'Skew_Saccade_Duration',\n",
    "       'Max_Saccade_Duration', 'Mean_Saccade_Amplitude',\n",
    "       'SD_Saccade_Amplitude', 'Skew_Saccade_Amplitude',\n",
    "       'Max_Saccade_Amplitude', 'Mean_Saccade_Direction',\n",
    "       'SD_Saccade_Direction', 'Skew_Saccade_Direction',\n",
    "       'Max_Saccade_Direction', 'Mean_Saccade_Length', 'SD_Saccade_Length',\n",
    "       'Skew_Saccade_Length', 'Max_Saccade_Length', 'Num_of_Blink',\n",
    "       'Mean_Blink_Duration', 'SD_Blink_Duration', 'Skew_Blink_Duration',\n",
    "       'Max_Blink_Duration', 'Num_of_Microsac', 'Mean_Microsac_Peak_Vel',\n",
    "       'SD_Microsac_Peak_Vel', 'Skew_Microsac_Peak_Vel',\n",
    "       'Max_Microsac_Peak_Vel', 'Mean_Microsac_Ampl', 'SD_Microsac_Ampl',\n",
    "       'Skew_Microsac_Ampl', 'Max_Microsac_Ampl', 'Mean_Microsac_Dir',\n",
    "       'SD_Microsac_Dir', 'Skew_Microsac_Dir', 'Max_Microsac_Dir',\n",
    "       'Mean_Microsac_H_Amp', 'SD_Microsac_H_Amp', 'Skew_Microsac_H_Amp',\n",
    "       'Max_Microsac_H_Amp', 'Mean_Microsac_V_Amp', 'SD_Microsac_V_Amp',\n",
    "       'Skew_Microsac_V_Amp', 'Max_Microsac_V_Amp']\n",
    "\n",
    "\n"
   ]
  },
  {
   "cell_type": "markdown",
   "id": "72e5f399",
   "metadata": {
    "papermill": {
     "duration": 0.002694,
     "end_time": "2024-10-15T08:11:05.697185",
     "exception": false,
     "start_time": "2024-10-15T08:11:05.694491",
     "status": "completed"
    },
    "tags": []
   },
   "source": [
    "# Preprocessing step: Handle missing data\n",
    "\n",
    "SimpleImputer is used to fill missing values in the feature matrix X.\n",
    "\n",
    "Replaces any missing values (NaN) with the mean of the respective column"
   ]
  },
  {
   "cell_type": "code",
   "execution_count": 3,
   "id": "d746de9a",
   "metadata": {
    "execution": {
     "iopub.execute_input": "2024-10-15T08:11:05.704524Z",
     "iopub.status.busy": "2024-10-15T08:11:05.704156Z",
     "iopub.status.idle": "2024-10-15T08:11:05.723438Z",
     "shell.execute_reply": "2024-10-15T08:11:05.722424Z"
    },
    "papermill": {
     "duration": 0.025686,
     "end_time": "2024-10-15T08:11:05.725685",
     "exception": false,
     "start_time": "2024-10-15T08:11:05.699999",
     "status": "completed"
    },
    "tags": []
   },
   "outputs": [],
   "source": [
    "X = eye_data[eye_data_features]\n",
    "\n",
    "imp = SimpleImputer(missing_values=np.nan, strategy='mean')\n",
    "imp.fit(X)\n",
    "X_imp = imp.transform(X)\n"
   ]
  },
  {
   "cell_type": "markdown",
   "id": "0886c3b8",
   "metadata": {
    "papermill": {
     "duration": 0.002793,
     "end_time": "2024-10-15T08:11:05.731851",
     "exception": false,
     "start_time": "2024-10-15T08:11:05.729058",
     "status": "completed"
    },
    "tags": []
   },
   "source": [
    "# Perform GridSearchCV with 5 folds of cross validation and find best set of parameters for SVM classifier"
   ]
  },
  {
   "cell_type": "code",
   "execution_count": 4,
   "id": "c2124248",
   "metadata": {
    "execution": {
     "iopub.execute_input": "2024-10-15T08:11:05.739410Z",
     "iopub.status.busy": "2024-10-15T08:11:05.739033Z",
     "iopub.status.idle": "2024-10-15T08:11:05.743737Z",
     "shell.execute_reply": "2024-10-15T08:11:05.742647Z"
    },
    "papermill": {
     "duration": 0.011182,
     "end_time": "2024-10-15T08:11:05.745955",
     "exception": false,
     "start_time": "2024-10-15T08:11:05.734773",
     "status": "completed"
    },
    "tags": []
   },
   "outputs": [],
   "source": [
    "# gs_knn = GridSearchCV(svm.SVC(), param_grid=param_grid, cv=5) # perform GridSearch with 5 fold cross validation\n",
    "\n",
    "# X_train, X_test, y_train, y_test = train_test_split(X_imp, y, test_size=0.1, random_state=0)\n",
    "\n",
    "# gs_knn.fit(X_train, y_train)\n",
    "# gs_knn.best_params_\n",
    "\n",
    "# #print(\"Ground Truth: \" + str(eye_data.iloc[5].Quad_Cat))\n",
    "# #print(\"Inference: \" + str(test[0]))\n",
    "\n",
    "# # find best model score\n",
    "# gs_knn.score(X_test, y_test)\n"
   ]
  },
  {
   "cell_type": "code",
   "execution_count": 5,
   "id": "cadc20d2",
   "metadata": {
    "execution": {
     "iopub.execute_input": "2024-10-15T08:11:05.753501Z",
     "iopub.status.busy": "2024-10-15T08:11:05.753184Z",
     "iopub.status.idle": "2024-10-15T08:11:18.458711Z",
     "shell.execute_reply": "2024-10-15T08:11:18.457530Z"
    },
    "papermill": {
     "duration": 12.712069,
     "end_time": "2024-10-15T08:11:18.461141",
     "exception": false,
     "start_time": "2024-10-15T08:11:05.749072",
     "status": "completed"
    },
    "tags": []
   },
   "outputs": [
    {
     "name": "stdout",
     "output_type": "stream",
     "text": [
      "\n",
      "Classifier: SVM\n",
      "Fold 1 Accuracy: 40.00%\n",
      "Fold 2 Accuracy: 42.00%\n",
      "Fold 3 Accuracy: 32.00%\n",
      "Fold 4 Accuracy: 30.00%\n",
      "Fold 5 Accuracy: 26.53%\n",
      "Mean Cross-Validation Accuracy: 0.341061224489796\n",
      "Confusion Matrix (Test Set):\n",
      "[[ 0 10  6  4]\n",
      " [ 0  7  2  5]\n",
      " [ 0  6  5  5]\n",
      " [ 2  6  2  3]]\n",
      "Test Set Accuracy: 23.81%\n",
      "\n",
      "Classifier: Random Forest\n",
      "Fold 1 Accuracy: 46.00%\n",
      "Fold 2 Accuracy: 66.00%\n",
      "Fold 3 Accuracy: 58.00%\n",
      "Fold 4 Accuracy: 70.00%\n",
      "Fold 5 Accuracy: 36.73%\n",
      "Mean Cross-Validation Accuracy: 0.5534693877551021\n",
      "Confusion Matrix (Test Set):\n",
      "[[ 9  7  1  3]\n",
      " [ 1  7  2  4]\n",
      " [ 1  3 10  2]\n",
      " [ 3  1  4  5]]\n",
      "Test Set Accuracy: 49.21%\n",
      "\n",
      "Classifier: K-Nearest Neighbors\n",
      "Fold 1 Accuracy: 38.00%\n",
      "Fold 2 Accuracy: 32.00%\n",
      "Fold 3 Accuracy: 34.00%\n",
      "Fold 4 Accuracy: 36.00%\n",
      "Fold 5 Accuracy: 38.78%\n",
      "Mean Cross-Validation Accuracy: 0.3575510204081632\n",
      "Confusion Matrix (Test Set):\n",
      "[[9 5 5 1]\n",
      " [2 7 3 2]\n",
      " [4 6 5 1]\n",
      " [6 4 3 0]]\n",
      "Test Set Accuracy: 33.33%\n",
      "\n",
      "Classifier: Decision Tree\n",
      "Fold 1 Accuracy: 42.00%\n",
      "Fold 2 Accuracy: 32.00%\n",
      "Fold 3 Accuracy: 34.00%\n",
      "Fold 4 Accuracy: 46.00%\n",
      "Fold 5 Accuracy: 38.78%\n",
      "Mean Cross-Validation Accuracy: 0.38555102040816325\n",
      "Confusion Matrix (Test Set):\n",
      "[[7 8 1 4]\n",
      " [2 5 1 6]\n",
      " [0 6 6 4]\n",
      " [5 3 3 2]]\n",
      "Test Set Accuracy: 31.75%\n",
      "\n",
      "Classifier: Logistic Regression\n"
     ]
    },
    {
     "name": "stderr",
     "output_type": "stream",
     "text": [
      "/opt/conda/lib/python3.10/site-packages/sklearn/linear_model/_logistic.py:458: ConvergenceWarning: lbfgs failed to converge (status=1):\n",
      "STOP: TOTAL NO. of ITERATIONS REACHED LIMIT.\n",
      "\n",
      "Increase the number of iterations (max_iter) or scale the data as shown in:\n",
      "    https://scikit-learn.org/stable/modules/preprocessing.html\n",
      "Please also refer to the documentation for alternative solver options:\n",
      "    https://scikit-learn.org/stable/modules/linear_model.html#logistic-regression\n",
      "  n_iter_i = _check_optimize_result(\n",
      "/opt/conda/lib/python3.10/site-packages/sklearn/linear_model/_logistic.py:458: ConvergenceWarning: lbfgs failed to converge (status=1):\n",
      "STOP: TOTAL NO. of ITERATIONS REACHED LIMIT.\n",
      "\n",
      "Increase the number of iterations (max_iter) or scale the data as shown in:\n",
      "    https://scikit-learn.org/stable/modules/preprocessing.html\n",
      "Please also refer to the documentation for alternative solver options:\n",
      "    https://scikit-learn.org/stable/modules/linear_model.html#logistic-regression\n",
      "  n_iter_i = _check_optimize_result(\n",
      "/opt/conda/lib/python3.10/site-packages/sklearn/linear_model/_logistic.py:458: ConvergenceWarning: lbfgs failed to converge (status=1):\n",
      "STOP: TOTAL NO. of ITERATIONS REACHED LIMIT.\n",
      "\n",
      "Increase the number of iterations (max_iter) or scale the data as shown in:\n",
      "    https://scikit-learn.org/stable/modules/preprocessing.html\n",
      "Please also refer to the documentation for alternative solver options:\n",
      "    https://scikit-learn.org/stable/modules/linear_model.html#logistic-regression\n",
      "  n_iter_i = _check_optimize_result(\n",
      "/opt/conda/lib/python3.10/site-packages/sklearn/linear_model/_logistic.py:458: ConvergenceWarning: lbfgs failed to converge (status=1):\n",
      "STOP: TOTAL NO. of ITERATIONS REACHED LIMIT.\n",
      "\n",
      "Increase the number of iterations (max_iter) or scale the data as shown in:\n",
      "    https://scikit-learn.org/stable/modules/preprocessing.html\n",
      "Please also refer to the documentation for alternative solver options:\n",
      "    https://scikit-learn.org/stable/modules/linear_model.html#logistic-regression\n",
      "  n_iter_i = _check_optimize_result(\n",
      "/opt/conda/lib/python3.10/site-packages/sklearn/linear_model/_logistic.py:458: ConvergenceWarning: lbfgs failed to converge (status=1):\n",
      "STOP: TOTAL NO. of ITERATIONS REACHED LIMIT.\n",
      "\n",
      "Increase the number of iterations (max_iter) or scale the data as shown in:\n",
      "    https://scikit-learn.org/stable/modules/preprocessing.html\n",
      "Please also refer to the documentation for alternative solver options:\n",
      "    https://scikit-learn.org/stable/modules/linear_model.html#logistic-regression\n",
      "  n_iter_i = _check_optimize_result(\n"
     ]
    },
    {
     "name": "stdout",
     "output_type": "stream",
     "text": [
      "Fold 1 Accuracy: 42.00%\n",
      "Fold 2 Accuracy: 60.00%\n",
      "Fold 3 Accuracy: 42.00%\n",
      "Fold 4 Accuracy: 58.00%\n",
      "Fold 5 Accuracy: 40.82%\n",
      "Mean Cross-Validation Accuracy: 0.4856326530612245\n"
     ]
    },
    {
     "name": "stderr",
     "output_type": "stream",
     "text": [
      "/opt/conda/lib/python3.10/site-packages/sklearn/linear_model/_logistic.py:458: ConvergenceWarning: lbfgs failed to converge (status=1):\n",
      "STOP: TOTAL NO. of ITERATIONS REACHED LIMIT.\n",
      "\n",
      "Increase the number of iterations (max_iter) or scale the data as shown in:\n",
      "    https://scikit-learn.org/stable/modules/preprocessing.html\n",
      "Please also refer to the documentation for alternative solver options:\n",
      "    https://scikit-learn.org/stable/modules/linear_model.html#logistic-regression\n",
      "  n_iter_i = _check_optimize_result(\n"
     ]
    },
    {
     "name": "stdout",
     "output_type": "stream",
     "text": [
      "Confusion Matrix (Test Set):\n",
      "[[4 7 0 9]\n",
      " [2 7 0 5]\n",
      " [3 3 7 3]\n",
      " [6 1 1 5]]\n",
      "Test Set Accuracy: 36.51%\n",
      "\n",
      "Classifier: Gradient Boosting\n",
      "Fold 1 Accuracy: 48.00%\n",
      "Fold 2 Accuracy: 62.00%\n",
      "Fold 3 Accuracy: 54.00%\n",
      "Fold 4 Accuracy: 62.00%\n",
      "Fold 5 Accuracy: 44.90%\n",
      "Mean Cross-Validation Accuracy: 0.541795918367347\n",
      "Confusion Matrix (Test Set):\n",
      "[[ 8  5  1  6]\n",
      " [ 1  8  1  4]\n",
      " [ 0  3 13  0]\n",
      " [ 4  4  1  4]]\n",
      "Test Set Accuracy: 52.38%\n",
      "\n",
      "Classifier: AdaBoost\n",
      "Fold 1 Accuracy: 40.00%\n",
      "Fold 2 Accuracy: 46.00%\n",
      "Fold 3 Accuracy: 40.00%\n",
      "Fold 4 Accuracy: 60.00%\n",
      "Fold 5 Accuracy: 26.53%\n",
      "Mean Cross-Validation Accuracy: 0.425061224489796\n",
      "Confusion Matrix (Test Set):\n",
      "[[4 6 2 8]\n",
      " [1 5 3 5]\n",
      " [0 4 5 7]\n",
      " [2 5 0 6]]\n",
      "Test Set Accuracy: 31.75%\n"
     ]
    }
   ],
   "source": [
    "import numpy as np\n",
    "import pandas as pd\n",
    "from sklearn.model_selection import train_test_split, StratifiedKFold, cross_val_score\n",
    "from sklearn.impute import SimpleImputer\n",
    "from sklearn.metrics import confusion_matrix , accuracy_score\n",
    "from sklearn.svm import SVC\n",
    "from sklearn.ensemble import RandomForestClassifier , GradientBoostingClassifier , AdaBoostClassifier\n",
    "from sklearn.neighbors import KNeighborsClassifier\n",
    "from sklearn.tree import DecisionTreeClassifier\n",
    "from sklearn.linear_model import LogisticRegression\n",
    "\n",
    "# load and process data\n",
    "# eye tracking features and target variable\n",
    "\n",
    "# X = eye_data[eye_data_features]\n",
    "# y = eye_data.Quad_Cat\n",
    "\n",
    "# # handle missing values \n",
    "# imp = SimpleImputer(missing_values=np.nan , strategy ='mean')\n",
    "# X_imp = imp.fit_transform(X)\n",
    "\n",
    "# train test split\n",
    "X_train, X_test , y_train , y_test = train_test_split(X_imp, y , test_size=0.2,random_state=0)\n",
    "\n",
    "classifiers = {\n",
    "    'SVM':SVC(),\n",
    "    'Random Forest':RandomForestClassifier(),\n",
    "    'K-Nearest Neighbors': KNeighborsClassifier(),\n",
    "    'Decision Tree': DecisionTreeClassifier(),\n",
    "    'Logistic Regression': LogisticRegression(max_iter=1000),\n",
    "    'Gradient Boosting': GradientBoostingClassifier(),\n",
    "    'AdaBoost':AdaBoostClassifier()\n",
    "    \n",
    "}\n",
    "\n",
    "\n",
    "# use StratifiedKFold to ensure class proportions are preserved in each fold\n",
    "cross_val = StratifiedKFold(n_splits=5,shuffle=True,random_state=42)\n",
    "\n",
    "for name, clf in classifiers.items():\n",
    "    print(f\"\\nClassifier: {name}\")\n",
    "    \n",
    "    # perform 5 Fold Cross-validation on the training data\n",
    "    cv_scores = cross_val_score(clf, X_train,y_train , cv = cross_val , scoring='accuracy') \n",
    "        \n",
    "    # print the accuracy of each fold\n",
    "    for i, score in enumerate(cv_scores):\n",
    "          print(f\"Fold {i+1} Accuracy: {score * 100:.2f}%\")\n",
    "          \n",
    "    # mean accuracy across all folds \n",
    "    mean_cv_accuracy = np.mean(cv_scores)\n",
    "    print(f\"Mean Cross-Validation Accuracy: {mean_cv_accuracy}\")\n",
    "          \n",
    "    # train the classifier on the entire training set and evaluate on the test set\n",
    "    clf.fit(X_train , y_train)\n",
    "    y_test_pred = clf.predict(X_test)\n",
    "    \n",
    "    # confusion matrix and accuracy on the test set\n",
    "    test_cm = confusion_matrix(y_test, y_test_pred)\n",
    "    test_accuracy = accuracy_score(y_test , y_test_pred)\n",
    "    print(f\"Confusion Matrix (Test Set):\\n{test_cm}\")\n",
    "    print(f\"Test Set Accuracy: {test_accuracy * 100:.2f}%\")      \n",
    "          "
   ]
  }
 ],
 "metadata": {
  "kaggle": {
   "accelerator": "none",
   "dataSources": [
    {
     "datasetId": 1662971,
     "sourceId": 2728156,
     "sourceType": "datasetVersion"
    }
   ],
   "dockerImageVersionId": 30527,
   "isGpuEnabled": false,
   "isInternetEnabled": false,
   "language": "python",
   "sourceType": "notebook"
  },
  "kernelspec": {
   "display_name": "Python 3",
   "language": "python",
   "name": "python3"
  },
  "language_info": {
   "codemirror_mode": {
    "name": "ipython",
    "version": 3
   },
   "file_extension": ".py",
   "mimetype": "text/x-python",
   "name": "python",
   "nbconvert_exporter": "python",
   "pygments_lexer": "ipython3",
   "version": "3.10.12"
  },
  "papermill": {
   "default_parameters": {},
   "duration": 25.576383,
   "end_time": "2024-10-15T08:11:19.386540",
   "environment_variables": {},
   "exception": null,
   "input_path": "__notebook__.ipynb",
   "output_path": "__notebook__.ipynb",
   "parameters": {},
   "start_time": "2024-10-15T08:10:53.810157",
   "version": "2.4.0"
  }
 },
 "nbformat": 4,
 "nbformat_minor": 5
}
