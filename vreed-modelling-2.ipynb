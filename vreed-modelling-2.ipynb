{
 "cells": [
  {
   "cell_type": "markdown",
   "id": "b09a3807",
   "metadata": {
    "_cell_guid": "b1076dfc-b9ad-4769-8c92-a6c4dae69d19",
    "_uuid": "8f2839f25d086af736a60e9eeb907d3b93b6e0e5",
    "execution": {
     "iopub.execute_input": "2023-07-12T23:25:02.410934Z",
     "iopub.status.busy": "2023-07-12T23:25:02.410496Z"
    },
    "papermill": {
     "duration": 0.00484,
     "end_time": "2024-10-15T14:14:49.488301",
     "exception": false,
     "start_time": "2024-10-15T14:14:49.483461",
     "status": "completed"
    },
    "tags": []
   },
   "source": [
    "# Hyperparameter tuning using Grid Search to select the best C & Gamma for SVM classifier\n",
    "\n",
    "Running this notebook takes too long: https://www.kaggle.com/code/sreedevirajavelu/vreed-modelling-1/edit\n",
    "\n",
    "This notebook uses a very large range of values for C and gamma using np.logspace(), which creates a logarithmic range of values for each parameter.\n",
    "\n",
    "By using: \n",
    "\n",
    "C_range = np.logspace(-2, 10, 100)\n",
    "\n",
    "gamma_range = np.logspace(-9, 3, 100)\n",
    "\n",
    "\n",
    "# Causes of Long Runtime:\n",
    "\n",
    "Creates a logarithmic space of 100 values for each parameter. This results in a grid search space of 10,000 combinations (100 x 100)\n",
    "\n",
    "GridSearchCV is initialized with these parameters and a 10-fold cross validation (cv=10)\n",
    "\n",
    "SVM with an RBF kernel (Radial Basis Function) can be computationally expensive. Each model training involves a solving a quadratic optimization problem, which can be slow.\n",
    "\n",
    "\n",
    "# Solutions to reduce runtime:\n",
    "\n",
    "**1. Reduce Parameter Grid:**\n",
    "\n",
    "Use a coarser grid (eg. 10 values each). Can perform random search or use successive halving to optimize the search process\n",
    "\n",
    "**2. Use fewer cross-validation folds:**\n",
    "\n",
    "Reduce cross-validation folds from 10 to 5\n",
    "\n",
    "\n",
    "**3. Sample the data:**\n",
    "\n",
    "If dataset is large, work with a subset of the data to perform grid search\n",
    "\n",
    "**4. Parallelize Grid Search:\n",
    "**\n",
    "**GridSearchCV** supports parallel processing with the **n_jobs** **parameter**. \n",
    "\n",
    "Setting **n_jobs = -1 ** would utilize all available CPU cores to run multiple cores simultaneously.\n",
    "\n",
    "\n"
   ]
  },
  {
   "cell_type": "code",
   "execution_count": null,
   "id": "d4b644a2",
   "metadata": {
    "jupyter": {
     "source_hidden": true
    },
    "papermill": {
     "duration": 0.003437,
     "end_time": "2024-10-15T14:14:49.495801",
     "exception": false,
     "start_time": "2024-10-15T14:14:49.492364",
     "status": "completed"
    },
    "tags": []
   },
   "outputs": [],
   "source": []
  },
  {
   "cell_type": "code",
   "execution_count": 1,
   "id": "830d1285",
   "metadata": {
    "execution": {
     "iopub.execute_input": "2024-10-15T14:14:49.504874Z",
     "iopub.status.busy": "2024-10-15T14:14:49.504458Z",
     "iopub.status.idle": "2024-10-15T14:14:51.206444Z",
     "shell.execute_reply": "2024-10-15T14:14:51.205066Z"
    },
    "papermill": {
     "duration": 1.709753,
     "end_time": "2024-10-15T14:14:51.209220",
     "exception": false,
     "start_time": "2024-10-15T14:14:49.499467",
     "status": "completed"
    },
    "tags": []
   },
   "outputs": [
    {
     "name": "stderr",
     "output_type": "stream",
     "text": [
      "/opt/conda/lib/python3.10/site-packages/scipy/__init__.py:146: UserWarning: A NumPy version >=1.16.5 and <1.23.0 is required for this version of SciPy (detected version 1.23.5\n",
      "  warnings.warn(f\"A NumPy version >={np_minversion} and <{np_maxversion}\"\n"
     ]
    }
   ],
   "source": [
    "## This Python 3 environment comes with many helpful analytics libraries installed\n",
    "# It is defined by the kaggle/python Docker image: https://github.com/kaggle/docker-python\n",
    "# For example, here's several helpful packages to load\n",
    "\n",
    "import numpy as np # linear algebra\n",
    "import pandas as pd # data processing, CSV file I/O (e.g. pd.read_csv)\n",
    "from sklearn import svm\n",
    "from sklearn.impute import SimpleImputer\n",
    "from sklearn.model_selection import GridSearchCV\n",
    "from sklearn.model_selection import train_test_split\n",
    "from sklearn.model_selection import cross_val_score\n",
    "from sklearn.svm import SVC\n",
    "\n",
    "#from skl2onnx import convert_sklearn\n",
    "#from skl2onnx.common.data_types import FloatTensorType, StringTensorType\n",
    "\n",
    "# Input data files are available in the read-only \"../input/\" directory\n",
    "# For example, running this (by clicking run or pressing Shift+Enter) will list all files under the input directory\n",
    "\n",
    "# You can write up to 20GB to the current directory (/kaggle/working/) that gets preserved as output when you create a version using \"Save & Run All\" \n",
    "# You can also write temporary files to /kaggle/temp/, but they won't be saved outside of the current session"
   ]
  },
  {
   "cell_type": "markdown",
   "id": "3e7ab082",
   "metadata": {
    "papermill": {
     "duration": 0.003724,
     "end_time": "2024-10-15T14:14:51.217207",
     "exception": false,
     "start_time": "2024-10-15T14:14:51.213483",
     "status": "completed"
    },
    "tags": []
   },
   "source": [
    "# Hyperparameter Tuning using Grid Search\n",
    "\n",
    "To search for the best set of hyperparameters for SVM classifier"
   ]
  },
  {
   "cell_type": "markdown",
   "id": "3148b9db",
   "metadata": {
    "papermill": {
     "duration": 0.003558,
     "end_time": "2024-10-15T14:14:51.224640",
     "exception": false,
     "start_time": "2024-10-15T14:14:51.221082",
     "status": "completed"
    },
    "tags": []
   },
   "source": [
    "# Split categories into arousal level\n",
    "\n",
    "* 0=High Arousal High Valence, \n",
    "* 1=Low Arousal High Valence, \n",
    "* 2=Low Arousal Low Valence, \n",
    "* 3=High Arousal Low Valence"
   ]
  },
  {
   "cell_type": "code",
   "execution_count": 2,
   "id": "2d91770a",
   "metadata": {
    "execution": {
     "iopub.execute_input": "2024-10-15T14:14:51.234332Z",
     "iopub.status.busy": "2024-10-15T14:14:51.233929Z",
     "iopub.status.idle": "2024-10-15T14:14:51.304524Z",
     "shell.execute_reply": "2024-10-15T14:14:51.303328Z"
    },
    "papermill": {
     "duration": 0.078847,
     "end_time": "2024-10-15T14:14:51.307431",
     "exception": false,
     "start_time": "2024-10-15T14:14:51.228584",
     "status": "completed"
    },
    "tags": []
   },
   "outputs": [
    {
     "name": "stdout",
     "output_type": "stream",
     "text": [
      "-------------------  SHAPE OF EYE DATA FEATURES EXTRACTED CSV ------------------\n",
      "(312, 50)\n",
      "-------------------  LEN OF EYE DATA FEATURES EXTRACTED CSV ------------------\n",
      "312\n",
      "<bound method NDFrame.head of      Quad_Cat  Num_of_Fixations  Mean_Fixation_Duration  SD_Fixation_Duration  \\\n",
      "0           1          0.605556             1208.440367           1013.049251   \n",
      "1           0          0.459184             1796.311111           1880.259542   \n",
      "2           0          0.480000             1617.694444           1895.391401   \n",
      "3           3          0.454545             1858.763636           2711.244828   \n",
      "4           1          0.527778             1582.126316           1520.578818   \n",
      "..        ...               ...                     ...                   ...   \n",
      "307         2          0.448276             2023.403846           2121.443120   \n",
      "308         0          0.278146             3123.047619           3834.811402   \n",
      "309         1          0.490683             1419.607595           1361.960488   \n",
      "310         3          0.437500             1861.714286           1994.288957   \n",
      "311         3          0.520000             1458.410256           1438.600448   \n",
      "\n",
      "     Skew_Fixation_Duration  Max_Fixation_Duration  First_Fixation_Duration  \\\n",
      "0                  2.080900                   6127                     1640   \n",
      "1                  2.346293                   9773                      556   \n",
      "2                  1.633123                   7573                      671   \n",
      "3                  3.296111                  14840                     1804   \n",
      "4                  1.862892                   7526                     1315   \n",
      "..                      ...                    ...                      ...   \n",
      "307                2.327756                  11573                     7313   \n",
      "308                1.773834                  17653                     6507   \n",
      "309                2.560576                   7691                      791   \n",
      "310                2.229175                  10014                     1058   \n",
      "311                1.570553                   5857                      799   \n",
      "\n",
      "     Num_of_Saccade  Mean_Saccade_Duration  SD_Saccade_Duration  ...  \\\n",
      "0          0.605556             438.064220           517.053212  ...   \n",
      "1          0.448980             392.000000           426.838023  ...   \n",
      "2          0.466667             481.314286           528.473650  ...   \n",
      "3          0.446281             349.240741           427.406260  ...   \n",
      "4          0.522222             311.531915           355.951480  ...   \n",
      "..              ...                    ...                  ...  ...   \n",
      "307        0.439655             222.294118           302.584487  ...   \n",
      "308        0.278146             469.476190           457.909472  ...   \n",
      "309        0.484472             635.935897           742.269341  ...   \n",
      "310        0.425000             437.735294           637.969473  ...   \n",
      "311        0.520000             473.333333           358.923121  ...   \n",
      "\n",
      "     Skew_Microsac_Dir  Max_Microsac_Dir  Mean_Microsac_H_Amp  \\\n",
      "0            -0.047816        179.719495             0.419874   \n",
      "1            -0.161061        179.563907            -4.596920   \n",
      "2            -0.214484        179.789091            -1.217540   \n",
      "3             0.083588        179.846777            -0.908321   \n",
      "4             0.219166        179.868585            -2.472084   \n",
      "..                 ...               ...                  ...   \n",
      "307           0.024436        179.918096            -0.191682   \n",
      "308           0.211808        179.990011             1.185974   \n",
      "309           0.043838        179.540875            -0.217885   \n",
      "310           0.140314        178.757483             0.535478   \n",
      "311          -0.039204        176.581236            -0.891497   \n",
      "\n",
      "     SD_Microsac_H_Amp  Skew_Microsac_H_Amp  Max_Microsac_H_Amp  \\\n",
      "0            25.214209             3.156580          220.069746   \n",
      "1            74.737290            -8.745373          144.173940   \n",
      "2            17.351371            -2.922202           35.323715   \n",
      "3            25.611097            -3.302714          122.294054   \n",
      "4            17.046195            -2.911459           55.629425   \n",
      "..                 ...                  ...                 ...   \n",
      "307          13.274505             0.466416           91.191697   \n",
      "308          20.307991             0.029653           96.049968   \n",
      "309          17.816587            -2.520313           41.802713   \n",
      "310          26.192162            -1.932032           99.197502   \n",
      "311          16.805216            -0.374126           39.546014   \n",
      "\n",
      "     Mean_Microsac_V_Amp  SD_Microsac_V_Amp  Skew_Microsac_V_Amp  \\\n",
      "0              -0.182289           8.975206             0.107803   \n",
      "1               0.660248          10.523471             3.971437   \n",
      "2              -1.158868          14.659309            -5.198588   \n",
      "3               0.094660           3.775847             1.529565   \n",
      "4              -0.538492           5.075856            -2.305319   \n",
      "..                   ...                ...                  ...   \n",
      "307             0.023930           2.035751            -0.903471   \n",
      "308            -0.178666          10.649966             2.409343   \n",
      "309            -0.008552           2.974471             1.112915   \n",
      "310            -0.047538           9.911744             0.642044   \n",
      "311            -0.580997           7.656029            -0.709953   \n",
      "\n",
      "     Max_Microsac_V_Amp  \n",
      "0             45.070474  \n",
      "1             81.150671  \n",
      "2             26.595861  \n",
      "3             29.637883  \n",
      "4             17.997401  \n",
      "..                  ...  \n",
      "307           10.980368  \n",
      "308           64.778420  \n",
      "309           18.217167  \n",
      "310           38.135265  \n",
      "311           20.608436  \n",
      "\n",
      "[312 rows x 50 columns]>\n",
      "-------------------  eye_data[Quad_cat] ------------------\n",
      "0      1\n",
      "1      0\n",
      "2      0\n",
      "3      3\n",
      "4      1\n",
      "      ..\n",
      "307    2\n",
      "308    0\n",
      "309    1\n",
      "310    3\n",
      "311    3\n",
      "Name: Quad_Cat, Length: 312, dtype: int64\n",
      "[1 0 3 2]\n"
     ]
    }
   ],
   "source": [
    "\n",
    "# C_range = np.logspace(-2, 10, 10)\n",
    "# gamma_range = np.logspace(-9, 3, 10)\n",
    "# param_grid = dict(gamma=gamma_range, C=C_range)\n",
    "        \n",
    "eyedata_file_path = '/kaggle/input/vr-eyes-emotions-dataset-vreed/04 Eye Tracking Data/02 Eye Tracking Data (Features Extracted)/EyeTracking_FeaturesExtracted.csv'\n",
    "eye_data = pd.read_csv(eyedata_file_path) \n",
    "\n",
    "print('-------------------  SHAPE OF EYE DATA FEATURES EXTRACTED CSV ------------------')\n",
    "print(eye_data.shape)\n",
    "\n",
    "print('-------------------  LEN OF EYE DATA FEATURES EXTRACTED CSV ------------------')\n",
    "print(len(eye_data))\n",
    "\n",
    "eye_data.columns\n",
    "\n",
    "print(eye_data.head)\n",
    "\n",
    "\n",
    "print('-------------------  eye_data[Quad_cat] ------------------')\n",
    "print(eye_data['Quad_Cat'])\n",
    "print(eye_data['Quad_Cat'].unique())\n",
    "\n",
    "\n",
    "y = eye_data.Quad_Cat\n",
    "\n",
    "eye_data_features = ['Num_of_Fixations', 'Mean_Fixation_Duration',\n",
    "       'SD_Fixation_Duration', 'Skew_Fixation_Duration',\n",
    "       'Max_Fixation_Duration', 'First_Fixation_Duration', 'Num_of_Saccade',\n",
    "       'Mean_Saccade_Duration', 'SD_Saccade_Duration', 'Skew_Saccade_Duration',\n",
    "       'Max_Saccade_Duration', 'Mean_Saccade_Amplitude',\n",
    "       'SD_Saccade_Amplitude', 'Skew_Saccade_Amplitude',\n",
    "       'Max_Saccade_Amplitude', 'Mean_Saccade_Direction',\n",
    "       'SD_Saccade_Direction', 'Skew_Saccade_Direction',\n",
    "       'Max_Saccade_Direction', 'Mean_Saccade_Length', 'SD_Saccade_Length',\n",
    "       'Skew_Saccade_Length', 'Max_Saccade_Length', 'Num_of_Blink',\n",
    "       'Mean_Blink_Duration', 'SD_Blink_Duration', 'Skew_Blink_Duration',\n",
    "       'Max_Blink_Duration', 'Num_of_Microsac', 'Mean_Microsac_Peak_Vel',\n",
    "       'SD_Microsac_Peak_Vel', 'Skew_Microsac_Peak_Vel',\n",
    "       'Max_Microsac_Peak_Vel', 'Mean_Microsac_Ampl', 'SD_Microsac_Ampl',\n",
    "       'Skew_Microsac_Ampl', 'Max_Microsac_Ampl', 'Mean_Microsac_Dir',\n",
    "       'SD_Microsac_Dir', 'Skew_Microsac_Dir', 'Max_Microsac_Dir',\n",
    "       'Mean_Microsac_H_Amp', 'SD_Microsac_H_Amp', 'Skew_Microsac_H_Amp',\n",
    "       'Max_Microsac_H_Amp', 'Mean_Microsac_V_Amp', 'SD_Microsac_V_Amp',\n",
    "       'Skew_Microsac_V_Amp', 'Max_Microsac_V_Amp']\n",
    "\n",
    "\n"
   ]
  },
  {
   "cell_type": "markdown",
   "id": "c0a0879a",
   "metadata": {
    "papermill": {
     "duration": 0.003798,
     "end_time": "2024-10-15T14:14:51.315715",
     "exception": false,
     "start_time": "2024-10-15T14:14:51.311917",
     "status": "completed"
    },
    "tags": []
   },
   "source": [
    "# Preprocessing step: Handle missing data\n",
    "\n",
    "SimpleImputer is used to fill missing values in the feature matrix X.\n",
    "\n",
    "Replaces any missing values (NaN) with the mean of the respective column"
   ]
  },
  {
   "cell_type": "code",
   "execution_count": 3,
   "id": "a9d97ee5",
   "metadata": {
    "execution": {
     "iopub.execute_input": "2024-10-15T14:14:51.326387Z",
     "iopub.status.busy": "2024-10-15T14:14:51.325182Z",
     "iopub.status.idle": "2024-10-15T14:14:51.341209Z",
     "shell.execute_reply": "2024-10-15T14:14:51.340185Z"
    },
    "papermill": {
     "duration": 0.024065,
     "end_time": "2024-10-15T14:14:51.343751",
     "exception": false,
     "start_time": "2024-10-15T14:14:51.319686",
     "status": "completed"
    },
    "tags": []
   },
   "outputs": [],
   "source": [
    "X = eye_data[eye_data_features]\n",
    "\n",
    "imp = SimpleImputer(missing_values=np.nan, strategy='mean')\n",
    "imp.fit(X)\n",
    "X_imp = imp.transform(X)\n"
   ]
  },
  {
   "cell_type": "markdown",
   "id": "d4b8bd86",
   "metadata": {
    "papermill": {
     "duration": 0.003885,
     "end_time": "2024-10-15T14:14:51.351893",
     "exception": false,
     "start_time": "2024-10-15T14:14:51.348008",
     "status": "completed"
    },
    "tags": []
   },
   "source": []
  },
  {
   "cell_type": "markdown",
   "id": "577b906a",
   "metadata": {
    "papermill": {
     "duration": 0.003846,
     "end_time": "2024-10-15T14:14:51.359879",
     "exception": false,
     "start_time": "2024-10-15T14:14:51.356033",
     "status": "completed"
    },
    "tags": []
   },
   "source": [
    "# Perform GridSearchCV with 5 folds of cross validation and find best set of parameters for SVM classifier"
   ]
  },
  {
   "cell_type": "code",
   "execution_count": 4,
   "id": "46eb8b85",
   "metadata": {
    "execution": {
     "iopub.execute_input": "2024-10-15T14:14:51.371226Z",
     "iopub.status.busy": "2024-10-15T14:14:51.370054Z",
     "iopub.status.idle": "2024-10-15T14:14:51.375425Z",
     "shell.execute_reply": "2024-10-15T14:14:51.374322Z"
    },
    "papermill": {
     "duration": 0.013237,
     "end_time": "2024-10-15T14:14:51.377799",
     "exception": false,
     "start_time": "2024-10-15T14:14:51.364562",
     "status": "completed"
    },
    "tags": []
   },
   "outputs": [],
   "source": [
    "# gs_knn = GridSearchCV(svm.SVC(), param_grid=param_grid, cv=5) # perform GridSearch with 5 fold cross validation\n",
    "\n",
    "# X_train, X_test, y_train, y_test = train_test_split(X_imp, y, test_size=0.1, random_state=0)\n",
    "\n",
    "# gs_knn.fit(X_train, y_train)\n",
    "# gs_knn.best_params_\n",
    "\n",
    "# #print(\"Ground Truth: \" + str(eye_data.iloc[5].Quad_Cat))\n",
    "# #print(\"Inference: \" + str(test[0]))\n",
    "\n",
    "# # find best model score\n",
    "# gs_knn.score(X_test, y_test)\n"
   ]
  },
  {
   "cell_type": "code",
   "execution_count": 5,
   "id": "a488a813",
   "metadata": {
    "execution": {
     "iopub.execute_input": "2024-10-15T14:14:51.388226Z",
     "iopub.status.busy": "2024-10-15T14:14:51.387825Z",
     "iopub.status.idle": "2024-10-15T14:15:05.217590Z",
     "shell.execute_reply": "2024-10-15T14:15:05.216211Z"
    },
    "papermill": {
     "duration": 13.838193,
     "end_time": "2024-10-15T14:15:05.220355",
     "exception": false,
     "start_time": "2024-10-15T14:14:51.382162",
     "status": "completed"
    },
    "tags": []
   },
   "outputs": [
    {
     "name": "stdout",
     "output_type": "stream",
     "text": [
      "\n",
      "Classifier: SVM\n",
      "Fold 1 Accuracy: 40.00%\n",
      "Fold 2 Accuracy: 42.00%\n",
      "Fold 3 Accuracy: 32.00%\n",
      "Fold 4 Accuracy: 30.00%\n",
      "Fold 5 Accuracy: 26.53%\n",
      "Mean Cross-Validation Accuracy: 34.11%\n",
      "Confusion Matrix (Test Set):\n",
      "[[ 0 10  6  4]\n",
      " [ 0  7  2  5]\n",
      " [ 0  6  5  5]\n",
      " [ 2  6  2  3]]\n",
      "Test Set Accuracy: 23.81%\n",
      "\n",
      "Classifier: Random Forest\n",
      "Fold 1 Accuracy: 52.00%\n",
      "Fold 2 Accuracy: 64.00%\n",
      "Fold 3 Accuracy: 60.00%\n",
      "Fold 4 Accuracy: 62.00%\n",
      "Fold 5 Accuracy: 40.82%\n",
      "Mean Cross-Validation Accuracy: 55.76%\n",
      "Confusion Matrix (Test Set):\n",
      "[[ 9  5  2  4]\n",
      " [ 2  9  1  2]\n",
      " [ 2  1 11  2]\n",
      " [ 3  1  4  5]]\n",
      "Test Set Accuracy: 53.97%\n",
      "\n",
      "Classifier: K-Nearest Neighbors\n",
      "Fold 1 Accuracy: 38.00%\n",
      "Fold 2 Accuracy: 32.00%\n",
      "Fold 3 Accuracy: 34.00%\n",
      "Fold 4 Accuracy: 36.00%\n",
      "Fold 5 Accuracy: 38.78%\n",
      "Mean Cross-Validation Accuracy: 35.76%\n",
      "Confusion Matrix (Test Set):\n",
      "[[9 5 5 1]\n",
      " [2 7 3 2]\n",
      " [4 6 5 1]\n",
      " [6 4 3 0]]\n",
      "Test Set Accuracy: 33.33%\n",
      "\n",
      "Classifier: Decision Tree\n",
      "Fold 1 Accuracy: 42.00%\n",
      "Fold 2 Accuracy: 32.00%\n",
      "Fold 3 Accuracy: 32.00%\n",
      "Fold 4 Accuracy: 50.00%\n",
      "Fold 5 Accuracy: 40.82%\n",
      "Mean Cross-Validation Accuracy: 39.36%\n",
      "Confusion Matrix (Test Set):\n",
      "[[9 5 2 4]\n",
      " [2 5 1 6]\n",
      " [1 5 6 4]\n",
      " [4 4 3 2]]\n",
      "Test Set Accuracy: 34.92%\n",
      "\n",
      "Classifier: Logistic Regression\n"
     ]
    },
    {
     "name": "stderr",
     "output_type": "stream",
     "text": [
      "/opt/conda/lib/python3.10/site-packages/sklearn/linear_model/_logistic.py:458: ConvergenceWarning: lbfgs failed to converge (status=1):\n",
      "STOP: TOTAL NO. of ITERATIONS REACHED LIMIT.\n",
      "\n",
      "Increase the number of iterations (max_iter) or scale the data as shown in:\n",
      "    https://scikit-learn.org/stable/modules/preprocessing.html\n",
      "Please also refer to the documentation for alternative solver options:\n",
      "    https://scikit-learn.org/stable/modules/linear_model.html#logistic-regression\n",
      "  n_iter_i = _check_optimize_result(\n",
      "/opt/conda/lib/python3.10/site-packages/sklearn/linear_model/_logistic.py:458: ConvergenceWarning: lbfgs failed to converge (status=1):\n",
      "STOP: TOTAL NO. of ITERATIONS REACHED LIMIT.\n",
      "\n",
      "Increase the number of iterations (max_iter) or scale the data as shown in:\n",
      "    https://scikit-learn.org/stable/modules/preprocessing.html\n",
      "Please also refer to the documentation for alternative solver options:\n",
      "    https://scikit-learn.org/stable/modules/linear_model.html#logistic-regression\n",
      "  n_iter_i = _check_optimize_result(\n",
      "/opt/conda/lib/python3.10/site-packages/sklearn/linear_model/_logistic.py:458: ConvergenceWarning: lbfgs failed to converge (status=1):\n",
      "STOP: TOTAL NO. of ITERATIONS REACHED LIMIT.\n",
      "\n",
      "Increase the number of iterations (max_iter) or scale the data as shown in:\n",
      "    https://scikit-learn.org/stable/modules/preprocessing.html\n",
      "Please also refer to the documentation for alternative solver options:\n",
      "    https://scikit-learn.org/stable/modules/linear_model.html#logistic-regression\n",
      "  n_iter_i = _check_optimize_result(\n",
      "/opt/conda/lib/python3.10/site-packages/sklearn/linear_model/_logistic.py:458: ConvergenceWarning: lbfgs failed to converge (status=1):\n",
      "STOP: TOTAL NO. of ITERATIONS REACHED LIMIT.\n",
      "\n",
      "Increase the number of iterations (max_iter) or scale the data as shown in:\n",
      "    https://scikit-learn.org/stable/modules/preprocessing.html\n",
      "Please also refer to the documentation for alternative solver options:\n",
      "    https://scikit-learn.org/stable/modules/linear_model.html#logistic-regression\n",
      "  n_iter_i = _check_optimize_result(\n",
      "/opt/conda/lib/python3.10/site-packages/sklearn/linear_model/_logistic.py:458: ConvergenceWarning: lbfgs failed to converge (status=1):\n",
      "STOP: TOTAL NO. of ITERATIONS REACHED LIMIT.\n",
      "\n",
      "Increase the number of iterations (max_iter) or scale the data as shown in:\n",
      "    https://scikit-learn.org/stable/modules/preprocessing.html\n",
      "Please also refer to the documentation for alternative solver options:\n",
      "    https://scikit-learn.org/stable/modules/linear_model.html#logistic-regression\n",
      "  n_iter_i = _check_optimize_result(\n"
     ]
    },
    {
     "name": "stdout",
     "output_type": "stream",
     "text": [
      "Fold 1 Accuracy: 42.00%\n",
      "Fold 2 Accuracy: 60.00%\n",
      "Fold 3 Accuracy: 42.00%\n",
      "Fold 4 Accuracy: 58.00%\n",
      "Fold 5 Accuracy: 40.82%\n",
      "Mean Cross-Validation Accuracy: 48.56%\n"
     ]
    },
    {
     "name": "stderr",
     "output_type": "stream",
     "text": [
      "/opt/conda/lib/python3.10/site-packages/sklearn/linear_model/_logistic.py:458: ConvergenceWarning: lbfgs failed to converge (status=1):\n",
      "STOP: TOTAL NO. of ITERATIONS REACHED LIMIT.\n",
      "\n",
      "Increase the number of iterations (max_iter) or scale the data as shown in:\n",
      "    https://scikit-learn.org/stable/modules/preprocessing.html\n",
      "Please also refer to the documentation for alternative solver options:\n",
      "    https://scikit-learn.org/stable/modules/linear_model.html#logistic-regression\n",
      "  n_iter_i = _check_optimize_result(\n"
     ]
    },
    {
     "name": "stdout",
     "output_type": "stream",
     "text": [
      "Confusion Matrix (Test Set):\n",
      "[[4 7 0 9]\n",
      " [2 7 0 5]\n",
      " [3 3 7 3]\n",
      " [6 1 1 5]]\n",
      "Test Set Accuracy: 36.51%\n",
      "\n",
      "Classifier: Gradient Boosting\n",
      "Fold 1 Accuracy: 46.00%\n",
      "Fold 2 Accuracy: 60.00%\n",
      "Fold 3 Accuracy: 56.00%\n",
      "Fold 4 Accuracy: 62.00%\n",
      "Fold 5 Accuracy: 40.82%\n",
      "Mean Cross-Validation Accuracy: 52.96%\n",
      "Confusion Matrix (Test Set):\n",
      "[[ 8  5  1  6]\n",
      " [ 1  7  1  5]\n",
      " [ 0  3 13  0]\n",
      " [ 4  4  1  4]]\n",
      "Test Set Accuracy: 50.79%\n",
      "\n",
      "Classifier: AdaBoost\n",
      "Fold 1 Accuracy: 40.00%\n",
      "Fold 2 Accuracy: 46.00%\n",
      "Fold 3 Accuracy: 40.00%\n",
      "Fold 4 Accuracy: 60.00%\n",
      "Fold 5 Accuracy: 26.53%\n",
      "Mean Cross-Validation Accuracy: 42.51%\n",
      "Confusion Matrix (Test Set):\n",
      "[[4 6 2 8]\n",
      " [1 5 3 5]\n",
      " [0 4 5 7]\n",
      " [2 5 0 6]]\n",
      "Test Set Accuracy: 31.75%\n",
      "\n",
      "Classifier: Naive Bayes\n",
      "Fold 1 Accuracy: 40.00%\n",
      "Fold 2 Accuracy: 46.00%\n",
      "Fold 3 Accuracy: 38.00%\n",
      "Fold 4 Accuracy: 42.00%\n",
      "Fold 5 Accuracy: 46.94%\n",
      "Mean Cross-Validation Accuracy: 42.59%\n",
      "Confusion Matrix (Test Set):\n",
      "[[ 3 10  5  2]\n",
      " [ 0  7  6  1]\n",
      " [ 0  3 12  1]\n",
      " [ 4  1  5  3]]\n",
      "Test Set Accuracy: 39.68%\n"
     ]
    }
   ],
   "source": [
    "import numpy as np\n",
    "import pandas as pd\n",
    "from sklearn.model_selection import train_test_split, StratifiedKFold, cross_val_score\n",
    "from sklearn.impute import SimpleImputer\n",
    "from sklearn.metrics import confusion_matrix , accuracy_score\n",
    "from sklearn.svm import SVC\n",
    "from sklearn.ensemble import RandomForestClassifier , GradientBoostingClassifier , AdaBoostClassifier\n",
    "from sklearn.neighbors import KNeighborsClassifier\n",
    "from sklearn.tree import DecisionTreeClassifier\n",
    "from sklearn.linear_model import LogisticRegression\n",
    "from sklearn.naive_bayes import GaussianNB\n",
    "import matplotlib.pyplot as plt\n",
    "\n",
    "# load and process data\n",
    "# eye tracking features and target variable\n",
    "\n",
    "# X = eye_data[eye_data_features]\n",
    "# y = eye_data.Quad_Cat\n",
    "\n",
    "# # handle missing values \n",
    "# imp = SimpleImputer(missing_values=np.nan , strategy ='mean')\n",
    "# X_imp = imp.fit_transform(X)\n",
    "\n",
    "# train test split\n",
    "X_train, X_test , y_train , y_test = train_test_split(X_imp, y , test_size=0.2,random_state=0)\n",
    "\n",
    "classifiers = {\n",
    "    'SVM':SVC(),\n",
    "    'Random Forest':RandomForestClassifier(),\n",
    "    'K-Nearest Neighbors': KNeighborsClassifier(),\n",
    "    'Decision Tree': DecisionTreeClassifier(),\n",
    "    'Logistic Regression': LogisticRegression(max_iter=1000),\n",
    "    'Gradient Boosting': GradientBoostingClassifier(),\n",
    "    'AdaBoost':AdaBoostClassifier(),\n",
    "    'Naive Bayes': GaussianNB()\n",
    "    \n",
    "}\n",
    "\n",
    "\n",
    "# use StratifiedKFold to ensure class proportions are preserved in each fold\n",
    "cross_val = StratifiedKFold(n_splits=5,shuffle=True,random_state=42)\n",
    "\n",
    "# to store the mean cross-validation accuracies\n",
    "mean_accuracies = []\n",
    "\n",
    "for name, clf in classifiers.items():\n",
    "    print(f\"\\nClassifier: {name}\")\n",
    "    \n",
    "    # perform 5 Fold Cross-validation on the training data\n",
    "    cv_scores = cross_val_score(clf, X_train,y_train , cv = cross_val , scoring='accuracy') \n",
    "        \n",
    "    # print the accuracy of each fold\n",
    "    for i, score in enumerate(cv_scores):\n",
    "          print(f\"Fold {i+1} Accuracy: {score * 100:.2f}%\")\n",
    "          \n",
    "    # mean accuracy across all folds \n",
    "    mean_cv_accuracy = np.mean(cv_scores)\n",
    "    mean_accuracies.append(mean_cv_accuracy * 100) # save mean accuracy to plot and compare\n",
    "    print(f\"Mean Cross-Validation Accuracy: {mean_cv_accuracy * 100:.2f}%\")\n",
    "          \n",
    "    # train the classifier on the entire training set and evaluate on the test set\n",
    "    clf.fit(X_train , y_train)\n",
    "    y_test_pred = clf.predict(X_test)\n",
    "    \n",
    "    # confusion matrix and accuracy on the test set\n",
    "    test_cm = confusion_matrix(y_test, y_test_pred)\n",
    "    test_accuracy = accuracy_score(y_test , y_test_pred)\n",
    "    print(f\"Confusion Matrix (Test Set):\\n{test_cm}\")\n",
    "    print(f\"Test Set Accuracy: {test_accuracy * 100:.2f}%\")      \n",
    "          "
   ]
  },
  {
   "cell_type": "markdown",
   "id": "7a1d9066",
   "metadata": {
    "papermill": {
     "duration": 0.00499,
     "end_time": "2024-10-15T14:15:05.232284",
     "exception": false,
     "start_time": "2024-10-15T14:15:05.227294",
     "status": "completed"
    },
    "tags": []
   },
   "source": [
    "# Plot cross-validation accuracies for all classifiers"
   ]
  },
  {
   "cell_type": "code",
   "execution_count": 6,
   "id": "e16e44be",
   "metadata": {
    "execution": {
     "iopub.execute_input": "2024-10-15T14:15:05.245076Z",
     "iopub.status.busy": "2024-10-15T14:15:05.244078Z",
     "iopub.status.idle": "2024-10-15T14:15:05.636123Z",
     "shell.execute_reply": "2024-10-15T14:15:05.634732Z"
    },
    "papermill": {
     "duration": 0.401473,
     "end_time": "2024-10-15T14:15:05.638954",
     "exception": false,
     "start_time": "2024-10-15T14:15:05.237481",
     "status": "completed"
    },
    "tags": []
   },
   "outputs": [
    {
     "data": {
      "image/png": "[encoded data removed]",
      "text/plain": [
       "<Figure size 1000x600 with 1 Axes>"
      ]
     },
     "metadata": {},
     "output_type": "display_data"
    }
   ],
   "source": [
    "# plot the mean cross validation accuracies\n",
    "classifier_names = list(classifiers.keys())\n",
    "y_pos = np.arange(len(classifier_names))\n",
    "\n",
    "plt.figure(figsize=(10,6))\n",
    "plt.bar(y_pos , mean_accuracies , color='royalblue')\n",
    "\n",
    "# add text labels for each bar\n",
    "for index, value in enumerate(mean_accuracies):\n",
    "    plt.text(index , value+0.5 , str(np.round(value , 2)), ha='center',fontsize=12, color='black')\n",
    "\n",
    "# set the tick labels, titles and labels\n",
    "plt.xticks(y_pos , classifier_names, fontsize=12)\n",
    "plt.yticks(fontsize=12)\n",
    "plt.ylabel('Accuracy (%)', fontsize=14)\n",
    "plt.xlabel('Classifiers', fontsize=14)\n",
    "plt.title('Cross-validation Accuracy for Various Classifiers' , fontsize=16)\n",
    "\n",
    "# show plot\n",
    "plt.tight_layout()\n",
    "plt.show()\n"
   ]
  },
  {
   "cell_type": "markdown",
   "id": "46e3e469",
   "metadata": {
    "papermill": {
     "duration": 0.005737,
     "end_time": "2024-10-15T14:15:05.650952",
     "exception": false,
     "start_time": "2024-10-15T14:15:05.645215",
     "status": "completed"
    },
    "tags": []
   },
   "source": [
    "\n",
    "\n",
    "\n"
   ]
  }
 ],
 "metadata": {
  "kaggle": {
   "accelerator": "none",
   "dataSources": [
    {
     "datasetId": 1662971,
     "sourceId": 2728156,
     "sourceType": "datasetVersion"
    }
   ],
   "dockerImageVersionId": 30527,
   "isGpuEnabled": false,
   "isInternetEnabled": false,
   "language": "python",
   "sourceType": "notebook"
  },
  "kernelspec": {
   "display_name": "Python 3",
   "language": "python",
   "name": "python3"
  },
  "language_info": {
   "codemirror_mode": {
    "name": "ipython",
    "version": 3
   },
   "file_extension": ".py",
   "mimetype": "text/x-python",
   "name": "python",
   "nbconvert_exporter": "python",
   "pygments_lexer": "ipython3",
   "version": "3.10.12"
  },
  "papermill": {
   "default_parameters": {},
   "duration": 29.089344,
   "end_time": "2024-10-15T14:15:06.681410",
   "environment_variables": {},
   "exception": null,
   "input_path": "__notebook__.ipynb",
   "output_path": "__notebook__.ipynb",
   "parameters": {},
   "start_time": "2024-10-15T14:14:37.592066",
   "version": "2.4.0"
  }
 },
 "nbformat": 4,
 "nbformat_minor": 5
}
